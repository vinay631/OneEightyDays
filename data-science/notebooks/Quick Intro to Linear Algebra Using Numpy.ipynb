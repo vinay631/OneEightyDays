{
 "cells": [
  {
   "cell_type": "markdown",
   "metadata": {},
   "source": [
    "# Quick Intro\n",
    "This intro will be based on Standford's [CS229: Deep Learning for Natural Language Processing](http://cs224d.stanford.edu/index.html) using numpy."
   ]
  },
  {
   "cell_type": "markdown",
   "metadata": {},
   "source": [
    "## Matrix Multiplication\n",
    "Thing to note: To multiply two matrices, A and B, the number of columns in A must be equal to the number of columns in B. If A has m rows and n columns and B has n rows and p columns, the product of these two matrices will have m rows and p columns. TODO: Add mathematical notations"
   ]
  },
  {
   "cell_type": "code",
   "execution_count": 1,
   "metadata": {
    "collapsed": false
   },
   "outputs": [
    {
     "name": "stdout",
     "output_type": "stream",
     "text": [
      "(2, 3) (3, 4) (2, 4)\n",
      "[[ 38  44  50  56]\n",
      " [ 83  98 113 128]]\n"
     ]
    }
   ],
   "source": [
    "import numpy as np\n",
    "\n",
    "#Create two matrices A and B\n",
    "A = np.array([[1, 2, 3], [4, 5, 6]])\n",
    "B = np.array([[1, 2, 3, 4], [5, 6, 7, 8], [9, 10, 11, 12]])\n",
    "\n",
    "C = A.dot(B)\n",
    "\n",
    "# Print number of rows and columns of all the matrices\n",
    "print A.shape, B.shape, C.shape\n",
    "\n",
    "print C"
   ]
  },
  {
   "cell_type": "markdown",
   "metadata": {
    "collapsed": true
   },
   "source": [
    "## Vectors\n",
    "A vector is a list (or n-tuples) of numbers. Here are some operations that can be performed on vectors.\n",
    "### Vector-Vector product\n",
    "Inner product/dot product\n",
    "TODO: Mathematical formulation"
   ]
  },
  {
   "cell_type": "code",
   "execution_count": 2,
   "metadata": {
    "collapsed": false
   },
   "outputs": [
    {
     "name": "stdout",
     "output_type": "stream",
     "text": [
      "126 126\n"
     ]
    }
   ],
   "source": [
    "x = np.array([2, 4, 8])\n",
    "y = np.array([3, 6, 12])\n",
    "\n",
    "z1 = x.dot(y)\n",
    "z2 = np.inner(x, y)\n",
    "print z1, z2"
   ]
  },
  {
   "cell_type": "markdown",
   "metadata": {},
   "source": [
    "Outer vector products:\n"
   ]
  },
  {
   "cell_type": "code",
   "execution_count": 3,
   "metadata": {
    "collapsed": false
   },
   "outputs": [
    {
     "name": "stdout",
     "output_type": "stream",
     "text": [
      "[[ 6 12 24]\n",
      " [12 24 48]\n",
      " [24 48 96]]\n"
     ]
    }
   ],
   "source": [
    "z3 = np.outer(x, y)\n",
    "print z3"
   ]
  },
  {
   "cell_type": "markdown",
   "metadata": {},
   "source": [
    "### Matrix-Vector multiplication"
   ]
  },
  {
   "cell_type": "code",
   "execution_count": 4,
   "metadata": {
    "collapsed": false
   },
   "outputs": [
    {
     "name": "stdout",
     "output_type": "stream",
     "text": [
      "[34 76]\n"
     ]
    }
   ],
   "source": [
    "print A.dot(x)"
   ]
  },
  {
   "cell_type": "markdown",
   "metadata": {},
   "source": [
    "### Properties of matrix multiplication"
   ]
  },
  {
   "cell_type": "markdown",
   "metadata": {},
   "source": [
    "- Matrix multiplication is associative: (AB)C = A(BC)\n",
    "- Matrix multiplication is distributive: A(B + C) = AB + AC\n",
    "- Matrix multiplication, in general, may not be commutative: AB =/= BA if A is [mXn] and B is [nXP]. We cannot multiply BA."
   ]
  },
  {
   "cell_type": "markdown",
   "metadata": {},
   "source": [
    "### Identity matrix\n",
    "\n",
    "Identity matrix is the one where diagonal elements are 1 and all the other elements are 0. It is also a square matrix."
   ]
  },
  {
   "cell_type": "code",
   "execution_count": 5,
   "metadata": {
    "collapsed": false
   },
   "outputs": [
    {
     "name": "stdout",
     "output_type": "stream",
     "text": [
      "[[ 1.  0.  0.]\n",
      " [ 0.  1.  0.]\n",
      " [ 0.  0.  1.]]\n"
     ]
    }
   ],
   "source": [
    "identity = np.eye(3)\n",
    "print identity"
   ]
  },
  {
   "cell_type": "code",
   "execution_count": 8,
   "metadata": {
    "collapsed": false
   },
   "outputs": [
    {
     "name": "stdout",
     "output_type": "stream",
     "text": [
      "[[3 0 0]\n",
      " [0 3 0]\n",
      " [0 0 3]]\n"
     ]
    }
   ],
   "source": [
    "diag_mat = np.zeros((3, 3), int)\n",
    "np.fill_diagonal(diag_mat, 3)\n",
    "print diag_mat"
   ]
  },
  {
   "cell_type": "markdown",
   "metadata": {},
   "source": [
    "###Transpose of Matrix\n",
    "Transpose of matrix results from flipping the \"rows\" and \"columns\" of a matrix. Following are the properties of matrix transpose:\n",
    "\n",
    "- (A<sup>T</sup>)<sup>T</sup> = A\n",
    "- (AB)<sup>T</sup> = B<sup>T</sup>A<sup>T</sup>\n",
    "- (A + B)<sup>T</sup> = A<sup>T</sup> + B<sup>T</sup>\n"
   ]
  },
  {
   "cell_type": "code",
   "execution_count": null,
   "metadata": {
    "collapsed": true
   },
   "outputs": [],
   "source": []
  }
 ],
 "metadata": {
  "kernelspec": {
   "display_name": "Python 2",
   "language": "python",
   "name": "python2"
  },
  "language_info": {
   "codemirror_mode": {
    "name": "ipython",
    "version": 2
   },
   "file_extension": ".py",
   "mimetype": "text/x-python",
   "name": "python",
   "nbconvert_exporter": "python",
   "pygments_lexer": "ipython2",
   "version": "2.7.10"
  }
 },
 "nbformat": 4,
 "nbformat_minor": 0
}
