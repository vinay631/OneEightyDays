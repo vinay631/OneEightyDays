{
 "cells": [
  {
   "cell_type": "code",
   "execution_count": 20,
   "metadata": {
    "collapsed": true
   },
   "outputs": [],
   "source": [
    "colstoinclude = ['Mol.Wt.', 'Volume', 'H-AcceptorCount', 'H-DonorCount', 'RotatableBondCount', 'XlogP', 'slogp', 'smr', 'polarizabilityAHC', 'polarizabilityAHP', 'chi0', 'chi1', 'chi2', 'chi3', 'chi4', 'chi5', 'chiV0', 'chiV1', 'chiV2', 'chiV3', 'chiV4', 'chiV5', '0PathCount', '1PathCount', '2PathCount', '3PathCount', '4PathCount', '5PathCount', 'chi3chain', 'chi4chain', 'chi5chain', 'chi6chain', 'chiV3chain', 'chiV4chain', 'chiV5chain', 'chiV6chain', '3ChainCount', '4ChainCount', '5ChainCount', '6ChainCount', 'chi3Cluster', 'chiV3Cluster', '3ClusterCount', 'chi4pathCluster', 'chiV4pathCluster', '4pathClusterCount', 'kappa1', 'kappa2', 'kappa3', 'k1alpha', 'k2alpha', 'k3alpha', 'HydrogensCount', 'CarbonsCount', 'SulfursCount', 'OxygensCount', 'NitrogensCount', 'ChlorinesCount', 'FluorinesCount', 'BrominesCount', 'IodinesCount', 'XcompDipole', 'YcompDipole', 'ZcompDipole', 'DipoleMoment', 'Quadrupole1', 'Quadrupole2', 'Quadrupole3', 'vdWSurfaceArea', 'Negative PotentialSurfaceArea', 'Most+vePotential', 'Most-vePotential', 'AveragePotential', 'Average+vePotential', 'Average-vePotential', 'Most+ve&-vePotentailDistance', 'DistTopo', 'ConnectivityIndex', 'WienerIndex', 'RadiusOfGyration', 'MomInertiaX', 'MomInertiaY', 'MomInertiaZ', 'BalabanIndexJ', 'BalabanB', 'BalabanC', 'BalabanQ', 'BalabanCdash', 'BalabanQdash', 'HosoyaIndex', 'SsCH3count', 'SdCH2count', 'SssCH2count', 'StCHcount', 'SdsCHcount', 'SaaCHcount', 'SsssCHcount', 'SddCcount', 'StsCcount', 'SdssCcount', 'SaasCcount', 'SaaaCcount', 'SssssCcount', 'SsNH2count', 'SdNHcount', 'SssNHcount', 'SaaNHcount', 'StNcount', 'SdsNcount', 'SaaNcount', 'SsssNcount', 'SaasN(Noxide)count', 'SssssN(onium)count', 'SsOHcount', 'SdOcount', 'SssOcount', 'SaaOcount', 'SdsssPcount', 'SsSHcount', 'SdScount', 'SssScount', 'SaaScount', 'SddssS(sulfate)count', 'SsClcount', 'SsBrcount', 'SsIcount', 'SsFcount', 'SsCH3E-index', 'SdCH2E-index', 'SssCH2E-index', 'StCHE-index', 'SdsCHE-index', 'SaaCHE-index', 'SsssCHE-index', 'SddCE-index', 'StsCE-index', 'SdssCE-index', 'SaasCE-index', 'SaaaCE-index', 'SssssCE-index', 'SsNH2E-index', 'SdNHE-index', 'SssNHE-index', 'SaaNHE-index', 'StNE-index', 'SdsNE-index', 'SaaNE-index', 'SsssNE-index', 'SaasN(Noxide)E-index', 'SssssN(onium)E-index', 'SsOHE-index', 'SdOE-index', 'SssOE-index', 'SaaOE-index', 'SdsssPE-index', 'SsSHE-index', 'SdSE-index', 'SssSE-index', 'SaaSE-index', 'SddssS(sulfate)E-index', 'SsClE-index', 'SsBrE-index', 'SsIE-index', 'SsFE-index', 'Ipc', 'IpcAverage', 'Id', 'IdAverage', 'Idw', 'IdwAverage', 'VolumeCount', 'ElectronegativityCount', 'ElectronegativityCountEH', 'Psi1', 'AlphaR', 'DeltaAlphaA', 'DeltaAlphaB', 'EpsilonR', 'EpsilonSS', 'Epsilon3', 'Epsilon4', 'DeltaEpsilonA', 'DeltaEpsilonB', 'DeltaEpsilonC', 'DeltaPsiA', 'DeltaPsiB', 'XAHydrophobicArea', 'XAHydrophilicArea', 'XAMostHydrophobic', 'XAMostHydrophilic', 'XAAverage', 'XAAverageHydrophobicity', 'XAAverageHydrophilicity', 'XAMostHydrophobicHydrophilicDistance', 'XKHydrophobicArea', 'XKHydrophilicArea', 'XKMostHydrophobic', 'XKMostHydrophilic', 'XKAverage', 'XKAverageHydrophobicity', 'XKAverageHydrophilicity', 'XKMostHydrophobicHydrophilicDistance', 'SAHydrophobicArea', 'SAHydrophilicArea', 'SAMostHydrophobic', 'SAMostHydrophilic', 'SAAverage', 'SAAverageHydrophobicity', 'SAAverageHydrophilicity', 'SAMostHydrophobicHydrophilicDistance', 'SKHydrophobicArea', 'SKHydrophilicArea', 'SKMostHydrophobic', 'SKMostHydrophilic', 'SKAverage', 'SKAverageHydrophobicity', 'SKAverageHydrophilicity', 'SKMostHydrophobicHydrophilicDistance', 'PolarSurfaceAreaExcludingPandS', 'PolarSurfaceAreaIncludingPandS', 'T_2_2_0', 'T_2_2_1', 'T_2_2_2', 'T_2_2_3', 'T_2_2_4', 'T_2_2_5', 'T_2_2_6', 'T_2_2_7', 'T_2_T_0', 'T_2_T_1', 'T_2_T_2', 'T_2_T_3', 'T_2_T_4', 'T_2_T_5', 'T_2_T_6', 'T_2_T_7', 'T_2_C_0', 'T_2_C_1', 'T_2_C_2', 'T_2_C_3', 'T_2_C_4', 'T_2_C_5', 'T_2_C_6', 'T_2_C_7', 'T_2_N_0', 'T_2_N_1', 'T_2_N_2', 'T_2_N_3', 'T_2_N_4', 'T_2_N_5', 'T_2_N_6', 'T_2_N_7', 'T_2_O_0', 'T_2_O_1', 'T_2_O_2', 'T_2_O_3', 'T_2_O_4', 'T_2_O_5', 'T_2_O_6', 'T_2_O_7', 'T_2_F_1', 'T_2_F_2', 'T_2_F_3', 'T_2_F_4', 'T_2_F_5', 'T_2_F_6', 'T_2_F_7', 'T_2_S_0', 'T_2_S_1', 'T_2_S_2', 'T_2_S_3', 'T_2_S_4', 'T_2_S_5', 'T_2_S_6', 'T_2_S_7', 'T_2_Cl_1', 'T_2_Cl_2', 'T_2_Cl_3', 'T_2_Cl_4', 'T_2_Cl_5', 'T_2_Cl_6', 'T_2_Cl_7', 'T_T_T_0', 'T_T_T_1', 'T_T_T_2', 'T_T_T_3', 'T_T_T_4', 'T_T_T_5', 'T_T_T_6', 'T_T_T_7', 'T_T_C_0', 'T_T_C_1', 'T_T_C_2', 'T_T_C_3', 'T_T_C_4', 'T_T_C_5', 'T_T_C_6', 'T_T_C_7', 'T_T_N_0', 'T_T_N_1', 'T_T_N_2', 'T_T_N_3', 'T_T_N_4', 'T_T_N_5', 'T_T_N_6', 'T_T_N_7', 'T_T_O_0', 'T_T_O_1', 'T_T_O_2', 'T_T_O_3', 'T_T_O_4', 'T_T_O_5', 'T_T_O_6', 'T_T_O_7', 'T_T_F_0', 'T_T_F_1', 'T_T_F_2', 'T_T_F_3', 'T_T_F_4', 'T_T_F_5', 'T_T_F_6', 'T_T_F_7', 'T_T_S_0', 'T_T_S_1', 'T_T_S_2', 'T_T_S_3', 'T_T_S_4', 'T_T_S_5', 'T_T_S_6', 'T_T_S_7', 'T_T_Cl_0', 'T_T_Cl_1', 'T_T_Cl_2', 'T_T_Cl_3', 'T_T_Cl_4', 'T_T_Cl_5', 'T_T_Cl_6', 'T_T_Cl_7', 'T_C_C_0', 'T_C_C_1', 'T_C_C_2', 'T_C_C_3', 'T_C_C_4', 'T_C_C_5', 'T_C_C_6', 'T_C_C_7', 'T_C_N_1', 'T_C_N_2', 'T_C_N_3', 'T_C_N_4', 'T_C_N_5', 'T_C_N_6', 'T_C_N_7', 'T_C_O_0', 'T_C_O_1', 'T_C_O_2', 'T_C_O_3', 'T_C_O_4', 'T_C_O_5', 'T_C_O_6', 'T_C_O_7', 'T_C_F_1', 'T_C_F_2', 'T_C_F_3', 'T_C_F_4', 'T_C_F_5', 'T_C_F_6', 'T_C_F_7', 'T_C_S_1', 'T_C_S_2', 'T_C_S_3', 'T_C_S_4', 'T_C_S_5', 'T_C_S_6', 'T_C_S_7', 'T_C_Cl_1', 'T_C_Cl_2', 'T_C_Cl_3', 'T_C_Cl_4', 'T_C_Cl_5', 'T_C_Cl_6', 'T_C_Cl_7', 'T_N_N_0', 'T_N_N_1', 'T_N_N_2', 'T_N_N_3', 'T_N_N_4', 'T_N_N_5', 'T_N_N_6', 'T_N_N_7', 'T_N_O_0', 'T_N_O_1', 'T_N_O_2', 'T_N_O_3', 'T_N_O_4', 'T_N_O_5', 'T_N_O_6', 'T_N_O_7', 'T_N_F_3', 'T_N_F_4', 'T_N_F_5', 'T_N_F_6', 'T_N_F_7', 'T_N_S_1', 'T_N_S_2', 'T_N_S_3', 'T_N_S_4', 'T_N_S_5', 'T_N_S_6', 'T_N_S_7', 'T_N_Cl_2', 'T_N_Cl_3', 'T_N_Cl_4', 'T_N_Cl_5', 'T_N_Cl_6', 'T_N_Cl_7', 'T_O_O_0', 'T_O_O_1', 'T_O_O_2', 'T_O_O_3', 'T_O_O_4', 'T_O_O_5', 'T_O_O_6', 'T_O_O_7', 'T_O_F_2', 'T_O_F_3', 'T_O_F_5', 'T_O_F_6', 'T_O_S_1', 'T_O_S_2', 'T_O_S_3', 'T_O_S_4', 'T_O_S_5', 'T_O_S_6', 'T_O_S_7', 'T_O_Cl_2', 'T_O_Cl_3', 'T_O_Cl_4', 'T_O_Cl_5', 'T_O_Cl_6', 'T_O_Cl_7', 'T_F_F_0', 'T_F_F_2', 'T_F_F_3', 'T_F_F_5', 'T_F_Cl_2', 'T_F_Cl_3', 'T_S_S_0', 'T_S_S_2', 'T_S_S_4', 'T_S_S_6', 'T_S_S_7', 'T_S_Cl_3', 'T_S_Cl_4', 'T_S_Cl_5', 'T_Cl_Cl_0', 'T_Cl_Cl_2', 'T_Cl_Cl_3', 'T_Cl_Cl_4', 'T_Cl_Cl_5', 'T_Cl_Cl_6', 'T_Cl_Cl_7']"
   ]
  },
  {
   "cell_type": "code",
   "execution_count": 21,
   "metadata": {
    "collapsed": false
   },
   "outputs": [
    {
     "name": "stdout",
     "output_type": "stream",
     "text": [
      "(845, 529)\n"
     ]
    }
   ],
   "source": [
    "import pandas as pd\n",
    "import numpy as np\n",
    "\n",
    "df = pd.read_csv(\"/Users/vmandal/Downloads/CAX_CANCER_Updated_TRAIN_data.csv\")\n",
    "\n",
    "print df.shape"
   ]
  },
  {
   "cell_type": "code",
   "execution_count": 30,
   "metadata": {
    "collapsed": false
   },
   "outputs": [
    {
     "name": "stdout",
     "output_type": "stream",
     "text": [
      "   TD50_Rat_mg  Mol.Wt.   Volume  H-AcceptorCount  H-DonorCount  \\\n",
      "0          153   44.053   46.825                1             0   \n",
      "1            0  100.120   96.514                3             0   \n",
      "2            0   59.068   58.398                2             1   \n",
      "3          180   59.068   58.314                2             1   \n",
      "4          495  151.165  128.980                3             2   \n",
      "\n",
      "   RotatableBondCount  XlogP  slogp     smr  polarizabilityAHC    ...      \\\n",
      "0                   1  0.021  0.205  11.738              4.498    ...       \n",
      "1                   4  0.050  0.080  27.993             10.064    ...       \n",
      "2                   2  0.375  0.466  15.953              5.785    ...       \n",
      "3                   2 -0.813 -0.508  14.868              5.658    ...       \n",
      "4                   4  0.917  1.351  42.410             15.890    ...       \n",
      "\n",
      "   T_S_Cl_5  T_S_Cl_6  T_S_Cl_7  T_Cl_Cl_0  T_Cl_Cl_2  T_Cl_Cl_3  T_Cl_Cl_4  \\\n",
      "0         0         0         0          0          0          0          0   \n",
      "1         0         0         0          0          0          0          0   \n",
      "2         0         0         0          0          0          0          0   \n",
      "3         0         0         0          0          0          0          0   \n",
      "4         0         0         0          0          0          0          0   \n",
      "\n",
      "   T_Cl_Cl_5  T_Cl_Cl_6  T_Cl_Cl_7  \n",
      "0          0          0          0  \n",
      "1          0          0          0  \n",
      "2          0          0          0  \n",
      "3          0          0          0  \n",
      "4          0          0          0  \n",
      "\n",
      "[5 rows x 484 columns]\n"
     ]
    }
   ],
   "source": [
    "df = df.loc[:, (df != 0).any(axis=0)]\n",
    "cols = df.columns\n",
    "print df.loc[:, cols[1:]].head()"
   ]
  },
  {
   "cell_type": "code",
   "execution_count": 47,
   "metadata": {
    "collapsed": false
   },
   "outputs": [
    {
     "name": "stdout",
     "output_type": "stream",
     "text": [
      "(838, 485)\n",
      "TD50_Rat_mg\n",
      "['SsNH3count', 'T_S_Cl_2', 'T_O_F_7', 'T_F_S_2', 'T_O_F_4', 'T_S_S_3', 'T_S_S_1', 'T_F_S_5', 'SsNH3E-index', 'T_O_Cl_1', 'Positive vePotentialSurfaceArea', 'T_F_F_4', 'T_2_Cl_0', 'T_C_N_0', 'SdssS(sulfone)E-index', 'SdssS(sulfone)count', 'T_F_Cl_5', 'T_F_F_6', 'T_S_S_5', 'T_S_Cl_7', 'T_S_Cl_6']\n"
     ]
    }
   ],
   "source": [
    "from sklearn.cross_validation import train_test_split\n",
    "df = df.replace([np.inf, -np.inf], np.nan)\n",
    "df = df.dropna()\n",
    "\n",
    "print df.shape\n",
    "print cols[1]\n",
    "X, y = df.loc[:, cols[2:]], df.TD50_Rat_mg\n",
    "X -= X.min()\n",
    "X /= X.max()\n",
    "X_train, X_test, y_train, y_test = train_test_split(X, y, random_state=42)\n",
    "print list(set(X.columns) - set(colstoinclude))\n",
    "#print df.describe()"
   ]
  },
  {
   "cell_type": "code",
   "execution_count": 48,
   "metadata": {
    "collapsed": false
   },
   "outputs": [
    {
     "data": {
      "text/plain": [
       "Lasso(alpha=0.01, copy_X=True, fit_intercept=True, max_iter=1000,\n",
       "   normalize=False, positive=False, precompute=False, random_state=None,\n",
       "   selection='cyclic', tol=0.0001, warm_start=False)"
      ]
     },
     "execution_count": 48,
     "metadata": {},
     "output_type": "execute_result"
    }
   ],
   "source": [
    "from sklearn.linear_model import LinearRegression, Lasso\n",
    "from sklearn.tree import DecisionTreeRegressor\n",
    "from sklearn.svm import SVR\n",
    "\n",
    "model = Lasso(alpha=0.01)#SVR(kernel='poly', C=1e3, degree=2)\n",
    "model.fit(X_train, y_train)"
   ]
  },
  {
   "cell_type": "code",
   "execution_count": 50,
   "metadata": {
    "collapsed": false
   },
   "outputs": [
    {
     "name": "stdout",
     "output_type": "stream",
     "text": [
      "211    0.00\n",
      "831    0.00\n",
      "79     0.00\n",
      "68     0.00\n",
      "682    0.00\n",
      "768    0.00\n",
      "30     0.00\n",
      "292    0.00\n",
      "673    0.00\n",
      "370    0.00\n",
      "804    0.00\n",
      "771    0.00\n",
      "400    4.69\n",
      "66     0.00\n",
      "464    2.96\n",
      "...\n",
      "212      0.0\n",
      "312    125.0\n",
      "763      0.0\n",
      "60       0.0\n",
      "602      0.0\n",
      "562    167.0\n",
      "276      0.0\n",
      "694      0.0\n",
      "469      0.0\n",
      "556      0.0\n",
      "679    672.0\n",
      "307     22.4\n",
      "216      0.0\n",
      "446      0.0\n",
      "759      0.0\n",
      "Name: TD50_Rat_mg, Length: 210, dtype: float64\n",
      "2974.5844552\n"
     ]
    }
   ],
   "source": [
    "from sklearn.metrics import mean_squared_error\n",
    "import math\n",
    "\n",
    "y_pred = model.predict(X_test)\n",
    "print y_test\n",
    "print math.sqrt(mean_squared_error(y_test, y_pred))\n"
   ]
  },
  {
   "cell_type": "code",
   "execution_count": 42,
   "metadata": {
    "collapsed": false
   },
   "outputs": [
    {
     "name": "stdout",
     "output_type": "stream",
     "text": [
      "(374, 529)\n",
      "(374, 529)\n"
     ]
    }
   ],
   "source": [
    "dftest = pd.read_csv(\"/Users/vmandal/Downloads/CAX_CANCER_TEST_data.csv\")\n",
    "compoundid = dftest.Compound_ID.tolist\n",
    "print dftest.shape\n",
    "dftest = dftest.fillna(dftest.mean())\n",
    "print dftest.shape\n",
    "#dftest = dftest.loc[:, (dftest != 0).any(axis=0)]\n",
    "#dftest = dftest.drop('TD50', 1)\n",
    "#dftest = dftest.replace([np.inf, -np.inf], np.nan)\n",
    "#dftest = dftest.dropna()\n",
    "#print dftest.shape\n",
    "#print dftest.columns\n",
    "#dftest = dftest.replace([np.inf, -np.inf], np.nan)\n",
    "#dftest = dftest.dropna()"
   ]
  },
  {
   "cell_type": "code",
   "execution_count": 45,
   "metadata": {
    "collapsed": false
   },
   "outputs": [
    {
     "name": "stdout",
     "output_type": "stream",
     "text": [
      "(374, 529)\n",
      "['TD50_Rat_mg', 'Positive vePotentialSurfaceArea']\n",
      "(374, 482)\n",
      "(374, 482) (838, 484)\n"
     ]
    },
    {
     "ename": "ValueError",
     "evalue": "shapes (374,482) and (484,) not aligned: 482 (dim 1) != 484 (dim 0)",
     "output_type": "error",
     "traceback": [
      "\u001b[0;31m---------------------------------------------------------------------------\u001b[0m",
      "\u001b[0;31mValueError\u001b[0m                                Traceback (most recent call last)",
      "\u001b[0;32m<ipython-input-45-80ba9cc95931>\u001b[0m in \u001b[0;36m<module>\u001b[0;34m()\u001b[0m\n\u001b[1;32m     19\u001b[0m \u001b[0mXtest\u001b[0m\u001b[0;34m.\u001b[0m\u001b[0mto_csv\u001b[0m\u001b[0;34m(\u001b[0m\u001b[0;34m\"/Users/vmandal/Downloads/testC.csv\"\u001b[0m\u001b[0;34m)\u001b[0m\u001b[0;34m\u001b[0m\u001b[0m\n\u001b[1;32m     20\u001b[0m \u001b[0;34m\u001b[0m\u001b[0m\n\u001b[0;32m---> 21\u001b[0;31m \u001b[0my_test_pred\u001b[0m \u001b[0;34m=\u001b[0m \u001b[0mmodel\u001b[0m\u001b[0;34m.\u001b[0m\u001b[0mpredict\u001b[0m\u001b[0;34m(\u001b[0m\u001b[0mXtest\u001b[0m\u001b[0;34m)\u001b[0m\u001b[0;34m\u001b[0m\u001b[0m\n\u001b[0m",
      "\u001b[0;32m/Users/vmandal/anaconda/lib/python2.7/site-packages/sklearn/linear_model/base.pyc\u001b[0m in \u001b[0;36mpredict\u001b[0;34m(self, X)\u001b[0m\n\u001b[1;32m    153\u001b[0m             \u001b[0mReturns\u001b[0m \u001b[0mpredicted\u001b[0m \u001b[0mvalues\u001b[0m\u001b[0;34m.\u001b[0m\u001b[0;34m\u001b[0m\u001b[0m\n\u001b[1;32m    154\u001b[0m         \"\"\"\n\u001b[0;32m--> 155\u001b[0;31m         \u001b[0;32mreturn\u001b[0m \u001b[0mself\u001b[0m\u001b[0;34m.\u001b[0m\u001b[0mdecision_function\u001b[0m\u001b[0;34m(\u001b[0m\u001b[0mX\u001b[0m\u001b[0;34m)\u001b[0m\u001b[0;34m\u001b[0m\u001b[0m\n\u001b[0m\u001b[1;32m    156\u001b[0m \u001b[0;34m\u001b[0m\u001b[0m\n\u001b[1;32m    157\u001b[0m     \u001b[0m_center_data\u001b[0m \u001b[0;34m=\u001b[0m \u001b[0mstaticmethod\u001b[0m\u001b[0;34m(\u001b[0m\u001b[0mcenter_data\u001b[0m\u001b[0;34m)\u001b[0m\u001b[0;34m\u001b[0m\u001b[0m\n",
      "\u001b[0;32m/Users/vmandal/anaconda/lib/python2.7/site-packages/sklearn/linear_model/coordinate_descent.pyc\u001b[0m in \u001b[0;36mdecision_function\u001b[0;34m(self, X)\u001b[0m\n\u001b[1;32m    707\u001b[0m                             + self.intercept_)\n\u001b[1;32m    708\u001b[0m         \u001b[0;32melse\u001b[0m\u001b[0;34m:\u001b[0m\u001b[0;34m\u001b[0m\u001b[0m\n\u001b[0;32m--> 709\u001b[0;31m             \u001b[0;32mreturn\u001b[0m \u001b[0msuper\u001b[0m\u001b[0;34m(\u001b[0m\u001b[0mElasticNet\u001b[0m\u001b[0;34m,\u001b[0m \u001b[0mself\u001b[0m\u001b[0;34m)\u001b[0m\u001b[0;34m.\u001b[0m\u001b[0mdecision_function\u001b[0m\u001b[0;34m(\u001b[0m\u001b[0mX\u001b[0m\u001b[0;34m)\u001b[0m\u001b[0;34m\u001b[0m\u001b[0m\n\u001b[0m\u001b[1;32m    710\u001b[0m \u001b[0;34m\u001b[0m\u001b[0m\n\u001b[1;32m    711\u001b[0m \u001b[0;34m\u001b[0m\u001b[0m\n",
      "\u001b[0;32m/Users/vmandal/anaconda/lib/python2.7/site-packages/sklearn/linear_model/base.pyc\u001b[0m in \u001b[0;36mdecision_function\u001b[0;34m(self, X)\u001b[0m\n\u001b[1;32m    138\u001b[0m         \u001b[0mX\u001b[0m \u001b[0;34m=\u001b[0m \u001b[0mcheck_array\u001b[0m\u001b[0;34m(\u001b[0m\u001b[0mX\u001b[0m\u001b[0;34m,\u001b[0m \u001b[0maccept_sparse\u001b[0m\u001b[0;34m=\u001b[0m\u001b[0;34m[\u001b[0m\u001b[0;34m'csr'\u001b[0m\u001b[0;34m,\u001b[0m \u001b[0;34m'csc'\u001b[0m\u001b[0;34m,\u001b[0m \u001b[0;34m'coo'\u001b[0m\u001b[0;34m]\u001b[0m\u001b[0;34m)\u001b[0m\u001b[0;34m\u001b[0m\u001b[0m\n\u001b[1;32m    139\u001b[0m         return safe_sparse_dot(X, self.coef_.T,\n\u001b[0;32m--> 140\u001b[0;31m                                dense_output=True) + self.intercept_\n\u001b[0m\u001b[1;32m    141\u001b[0m \u001b[0;34m\u001b[0m\u001b[0m\n\u001b[1;32m    142\u001b[0m     \u001b[0;32mdef\u001b[0m \u001b[0mpredict\u001b[0m\u001b[0;34m(\u001b[0m\u001b[0mself\u001b[0m\u001b[0;34m,\u001b[0m \u001b[0mX\u001b[0m\u001b[0;34m)\u001b[0m\u001b[0;34m:\u001b[0m\u001b[0;34m\u001b[0m\u001b[0m\n",
      "\u001b[0;32m/Users/vmandal/anaconda/lib/python2.7/site-packages/sklearn/utils/extmath.pyc\u001b[0m in \u001b[0;36msafe_sparse_dot\u001b[0;34m(a, b, dense_output)\u001b[0m\n\u001b[1;32m    181\u001b[0m         \u001b[0;32mreturn\u001b[0m \u001b[0mret\u001b[0m\u001b[0;34m\u001b[0m\u001b[0m\n\u001b[1;32m    182\u001b[0m     \u001b[0;32melse\u001b[0m\u001b[0;34m:\u001b[0m\u001b[0;34m\u001b[0m\u001b[0m\n\u001b[0;32m--> 183\u001b[0;31m         \u001b[0;32mreturn\u001b[0m \u001b[0mfast_dot\u001b[0m\u001b[0;34m(\u001b[0m\u001b[0ma\u001b[0m\u001b[0;34m,\u001b[0m \u001b[0mb\u001b[0m\u001b[0;34m)\u001b[0m\u001b[0;34m\u001b[0m\u001b[0m\n\u001b[0m\u001b[1;32m    184\u001b[0m \u001b[0;34m\u001b[0m\u001b[0m\n\u001b[1;32m    185\u001b[0m \u001b[0;34m\u001b[0m\u001b[0m\n",
      "\u001b[0;31mValueError\u001b[0m: shapes (374,482) and (484,) not aligned: 482 (dim 1) != 484 (dim 0)"
     ]
    }
   ],
   "source": [
    "traincols, testcols = list(X.columns), list(dftest.columns)\n",
    "\n",
    "commoncols = []\n",
    "print dftest.shape\n",
    "for t in testcols:\n",
    "    if t in traincols:\n",
    "        commoncols.append(t)\n",
    "print list(set(traincols) - set(commoncols))\n",
    "compoundidsel = dftest.Compound_ID.tolist\n",
    "#print list(commoncols)\n",
    "Xtest = dftest.loc[:, commoncols]\n",
    "print Xtest.shape\n",
    "#Xtest = Xtest.drop('TD50', 1)\n",
    "#print Xtest.max()\n",
    "Xtest -= Xtest.mean()\n",
    "Xtest /= Xtest.max()\n",
    "Xtest = pd.notnull(Xtest)\n",
    "print Xtest.shape, X.shape\n",
    "Xtest.to_csv(\"/Users/vmandal/Downloads/testC.csv\")\n",
    "\n",
    "y_test_pred = model.predict(Xtest)"
   ]
  },
  {
   "cell_type": "code",
   "execution_count": null,
   "metadata": {
    "collapsed": true
   },
   "outputs": [],
   "source": []
  },
  {
   "cell_type": "code",
   "execution_count": null,
   "metadata": {
    "collapsed": true
   },
   "outputs": [],
   "source": []
  }
 ],
 "metadata": {
  "kernelspec": {
   "display_name": "Python 2",
   "language": "python",
   "name": "python2"
  },
  "language_info": {
   "codemirror_mode": {
    "name": "ipython",
    "version": 2
   },
   "file_extension": ".py",
   "mimetype": "text/x-python",
   "name": "python",
   "nbconvert_exporter": "python",
   "pygments_lexer": "ipython2",
   "version": "2.7.10"
  }
 },
 "nbformat": 4,
 "nbformat_minor": 0
}
