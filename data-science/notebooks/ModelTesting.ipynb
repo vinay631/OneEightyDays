{
 "cells": [
  {
   "cell_type": "code",
   "execution_count": 172,
   "metadata": {
    "collapsed": false
   },
   "outputs": [
    {
     "name": "stdout",
     "output_type": "stream",
     "text": [
      "(845, 529)\n"
     ]
    }
   ],
   "source": [
    "import pandas as pd\n",
    "import numpy as np\n",
    "\n",
    "df = pd.read_csv(\"/Users/vmandal/Downloads/CAX_CANCER_Updated_TRAIN_data.csv\")\n",
    "\n",
    "print df.shape"
   ]
  },
  {
   "cell_type": "code",
   "execution_count": 173,
   "metadata": {
    "collapsed": false
   },
   "outputs": [
    {
     "name": "stdout",
     "output_type": "stream",
     "text": [
      "   TD50_Rat_mg  Mol.Wt.   Volume  H-AcceptorCount  H-DonorCount  \\\n",
      "0          153   44.053   46.825                1             0   \n",
      "1            0  100.120   96.514                3             0   \n",
      "2            0   59.068   58.398                2             1   \n",
      "3          180   59.068   58.314                2             1   \n",
      "4          495  151.165  128.980                3             2   \n",
      "\n",
      "   RotatableBondCount  XlogP  slogp     smr  polarizabilityAHC    ...      \\\n",
      "0                   1  0.021  0.205  11.738              4.498    ...       \n",
      "1                   4  0.050  0.080  27.993             10.064    ...       \n",
      "2                   2  0.375  0.466  15.953              5.785    ...       \n",
      "3                   2 -0.813 -0.508  14.868              5.658    ...       \n",
      "4                   4  0.917  1.351  42.410             15.890    ...       \n",
      "\n",
      "   T_S_Cl_5  T_S_Cl_6  T_S_Cl_7  T_Cl_Cl_0  T_Cl_Cl_2  T_Cl_Cl_3  T_Cl_Cl_4  \\\n",
      "0         0         0         0          0          0          0          0   \n",
      "1         0         0         0          0          0          0          0   \n",
      "2         0         0         0          0          0          0          0   \n",
      "3         0         0         0          0          0          0          0   \n",
      "4         0         0         0          0          0          0          0   \n",
      "\n",
      "   T_Cl_Cl_5  T_Cl_Cl_6  T_Cl_Cl_7  \n",
      "0          0          0          0  \n",
      "1          0          0          0  \n",
      "2          0          0          0  \n",
      "3          0          0          0  \n",
      "4          0          0          0  \n",
      "\n",
      "[5 rows x 484 columns]\n"
     ]
    }
   ],
   "source": [
    "df = df.loc[:, (df != 0).any(axis=0)]\n",
    "cols = df.columns\n",
    "print df.loc[:, cols[1:]].head()"
   ]
  },
  {
   "cell_type": "code",
   "execution_count": 174,
   "metadata": {
    "collapsed": false
   },
   "outputs": [
    {
     "name": "stdout",
     "output_type": "stream",
     "text": [
      "(838, 485)\n",
      "chi3Cluster\n",
      "            CAX_ID   TD50_Rat_mg     Mol.Wt.      Volume  H-AcceptorCount  \\\n",
      "count   838.000000    838.000000  838.000000  838.000000       838.000000   \n",
      "mean    629.818616    158.068162  206.130046  156.746376         3.109785   \n",
      "std     385.589540   1370.663112  109.232134   75.889885         2.307305   \n",
      "min       3.000000      0.000000   18.038000   22.404000         0.000000   \n",
      "25%     304.250000      0.000000  127.718470  104.752000         2.000000   \n",
      "50%     594.500000      0.000000  186.277100  143.325500         3.000000   \n",
      "75%     996.750000      3.755000  263.099505  198.830750         4.000000   \n",
      "max    1300.000000  25700.000000  959.171400  450.591000        15.000000   \n",
      "\n",
      "       H-DonorCount  RotatableBondCount       XlogP       slogp         smr  \\\n",
      "count    838.000000          838.000000  838.000000  838.000000  838.000000   \n",
      "mean       0.974940            4.844869    1.547926    1.770279   52.324011   \n",
      "std        1.167293            4.250495    2.165902    1.943822   28.277349   \n",
      "min        0.000000            0.000000   -7.580000   -5.395600    0.000000   \n",
      "25%        0.000000            2.000000    0.000000    0.429450   32.828150   \n",
      "50%        1.000000            4.000000    1.381500    1.639650   47.163150   \n",
      "75%        2.000000            7.000000    2.902250    2.856850   69.654500   \n",
      "max        8.000000           29.000000   11.499000   11.103900  178.194000   \n",
      "\n",
      "          ...        T_S_Cl_5    T_S_Cl_6    T_S_Cl_7   T_Cl_Cl_0   T_Cl_Cl_2  \\\n",
      "count     ...      838.000000  838.000000  838.000000  838.000000  838.000000   \n",
      "mean      ...        0.005967    0.004773    0.001193    0.429594    0.072792   \n",
      "std       ...        0.091255    0.068965    0.034544    1.156430    0.443403   \n",
      "min       ...        0.000000    0.000000    0.000000    0.000000    0.000000   \n",
      "25%       ...        0.000000    0.000000    0.000000    0.000000    0.000000   \n",
      "50%       ...        0.000000    0.000000    0.000000    0.000000    0.000000   \n",
      "75%       ...        0.000000    0.000000    0.000000    0.000000    0.000000   \n",
      "max       ...        2.000000    1.000000    1.000000   11.000000    6.000000   \n",
      "\n",
      "        T_Cl_Cl_3   T_Cl_Cl_4   T_Cl_Cl_5   T_Cl_Cl_6   T_Cl_Cl_7  \n",
      "count  838.000000  838.000000  838.000000  838.000000  838.000000  \n",
      "mean     0.150358    0.150358    0.064439    0.016706    0.035800  \n",
      "std      1.011909    1.252503    0.560040    0.188581    0.376943  \n",
      "min      0.000000    0.000000    0.000000    0.000000    0.000000  \n",
      "25%      0.000000    0.000000    0.000000    0.000000    0.000000  \n",
      "50%      0.000000    0.000000    0.000000    0.000000    0.000000  \n",
      "75%      0.000000    0.000000    0.000000    0.000000    0.000000  \n",
      "max     15.000000   23.000000   11.000000    4.000000    6.000000  \n",
      "\n",
      "[8 rows x 485 columns]\n"
     ]
    }
   ],
   "source": [
    "from sklearn.cross_validation import train_test_split\n",
    "df = df.replace([np.inf, -np.inf], np.nan)\n",
    "df = df.dropna()\n",
    "\n",
    "print df.shape\n",
    "print cols[42]\n",
    "X, y = df.loc[:, cols[1:]], df.TD50_Rat_mg\n",
    "X -= X.min()\n",
    "X /= X.max()\n",
    "X_train, X_test, y_train, y_test = train_test_split(X, y, random_state=42)\n",
    "print df.describe()"
   ]
  },
  {
   "cell_type": "code",
   "execution_count": 175,
   "metadata": {
    "collapsed": false
   },
   "outputs": [
    {
     "data": {
      "text/plain": [
       "Lasso(alpha=0.01, copy_X=True, fit_intercept=True, max_iter=1000,\n",
       "   normalize=False, positive=False, precompute=False, random_state=None,\n",
       "   selection='cyclic', tol=0.0001, warm_start=False)"
      ]
     },
     "execution_count": 175,
     "metadata": {},
     "output_type": "execute_result"
    }
   ],
   "source": [
    "from sklearn.linear_model import LinearRegression, Lasso\n",
    "from sklearn.tree import DecisionTreeRegressor\n",
    "from sklearn.svm import SVR\n",
    "\n",
    "model = Lasso(alpha=0.01)#SVR(kernel='poly', C=1e3, degree=2)\n",
    "model.fit(X_train, y_train)"
   ]
  },
  {
   "cell_type": "code",
   "execution_count": 176,
   "metadata": {
    "collapsed": false
   },
   "outputs": [
    {
     "name": "stdout",
     "output_type": "stream",
     "text": [
      "211    0.00\n",
      "831    0.00\n",
      "79     0.00\n",
      "68     0.00\n",
      "682    0.00\n",
      "768    0.00\n",
      "30     0.00\n",
      "292    0.00\n",
      "673    0.00\n",
      "370    0.00\n",
      "804    0.00\n",
      "771    0.00\n",
      "400    4.69\n",
      "66     0.00\n",
      "464    2.96\n",
      "...\n",
      "212      0.0\n",
      "312    125.0\n",
      "763      0.0\n",
      "60       0.0\n",
      "602      0.0\n",
      "562    167.0\n",
      "276      0.0\n",
      "694      0.0\n",
      "469      0.0\n",
      "556      0.0\n",
      "679    672.0\n",
      "307     22.4\n",
      "216      0.0\n",
      "446      0.0\n",
      "759      0.0\n",
      "Name: TD50_Rat_mg, Length: 210, dtype: float64\n",
      "0.172019975388\n"
     ]
    }
   ],
   "source": [
    "from sklearn.metrics import mean_squared_error\n",
    "import math\n",
    "\n",
    "y_pred = model.predict(X_test)\n",
    "print y_test\n",
    "print mean_squared_error(y_test, y_pred)\n"
   ]
  },
  {
   "cell_type": "code",
   "execution_count": 214,
   "metadata": {
    "collapsed": false
   },
   "outputs": [
    {
     "name": "stdout",
     "output_type": "stream",
     "text": [
      "(374, 529)\n",
      "(372, 468)\n",
      "Index([u'Compound_ID', u'Mol.Wt.', u'Volume', u'H-AcceptorCount', u'H-DonorCount', u'RotatableBondCount', u'XlogP', u'slogp', u'smr', u'polarizabilityAHC', u'polarizabilityAHP', u'chi0', u'chi1', u'chi2', u'chi3', u'chi4', u'chi5', u'chiV0', u'chiV1', u'chiV2', u'chiV3', u'chiV4', u'chiV5', u'0PathCount', u'1PathCount', u'2PathCount', u'3PathCount', u'4PathCount', u'5PathCount', u'chi3chain', u'chi4chain', u'chi5chain', u'chi6chain', u'chiV3chain', u'chiV4chain', u'chiV5chain', u'chiV6chain', u'3ChainCount', u'4ChainCount', u'5ChainCount', u'6ChainCount', u'chi3Cluster', u'chiV3Cluster', u'3ClusterCount', u'chi4pathCluster', u'chiV4pathCluster', u'4pathClusterCount', u'kappa1', u'kappa2', u'kappa3', u'k1alpha', u'k2alpha', u'k3alpha', u'HydrogensCount', u'CarbonsCount', u'SulfursCount', u'OxygensCount', u'NitrogensCount', u'ChlorinesCount', u'FluorinesCount', u'BrominesCount', u'IodinesCount', u'XcompDipole', u'YcompDipole', u'ZcompDipole', u'DipoleMoment', u'Quadrupole1', u'Quadrupole2', u'Quadrupole3', u'vdWSurfaceArea', u'Positive PotentialSurfaceArea ', u'Negative PotentialSurfaceArea', u'Most+vePotential', u'Most-vePotential', u'AveragePotential', u'Average+vePotential', u'Average-vePotential', u'Most+ve&-vePotentailDistance', u'DistTopo', u'ConnectivityIndex', u'WienerIndex', u'RadiusOfGyration', u'MomInertiaX', u'MomInertiaY', u'MomInertiaZ', u'BalabanIndexJ', u'BalabanB', u'BalabanC', u'BalabanQ', u'BalabanCdash', u'BalabanQdash', u'HosoyaIndex', u'SsCH3count', u'SdCH2count', u'SssCH2count', u'StCHcount', u'SdsCHcount', u'SaaCHcount', u'SsssCHcount', u'SddCcount', ...], dtype='object')\n"
     ]
    }
   ],
   "source": [
    "dftest = pd.read_csv(\"/Users/vmandal/Downloads/CAX_CANCER_TEST_data.csv\")\n",
    "compoundid = dftest.Compound_ID.tolist\n",
    "print dftest.shape\n",
    "dftest = dftest.loc[:, (dftest != 0).any(axis=0)]\n",
    "dftest = dftest.drop('TD50', 1)\n",
    "dftest = dftest.replace([np.inf, -np.inf], np.nan)\n",
    "dftest = dftest.dropna()\n",
    "print dftest.shape\n",
    "print dftest.columns\n",
    "#dftest = dftest.replace([np.inf, -np.inf], np.nan)\n",
    "#dftest = dftest.dropna()"
   ]
  },
  {
   "cell_type": "code",
   "execution_count": 215,
   "metadata": {
    "collapsed": false
   },
   "outputs": [
    {
     "name": "stdout",
     "output_type": "stream",
     "text": [
      "(372, 468)\n"
     ]
    },
    {
     "ename": "IOError",
     "evalue": "[Errno 2] No such file or directory: '/Users/vmanda/Downloads/testC.csv'",
     "output_type": "error",
     "traceback": [
      "\u001b[0;31m---------------------------------------------------------------------------\u001b[0m",
      "\u001b[0;31mIOError\u001b[0m                                   Traceback (most recent call last)",
      "\u001b[0;32m<ipython-input-215-ac7ac9d51e05>\u001b[0m in \u001b[0;36m<module>\u001b[0;34m()\u001b[0m\n\u001b[1;32m     13\u001b[0m \u001b[0mXtest\u001b[0m \u001b[0;34m-=\u001b[0m \u001b[0mXtest\u001b[0m\u001b[0;34m.\u001b[0m\u001b[0mmean\u001b[0m\u001b[0;34m(\u001b[0m\u001b[0;34m)\u001b[0m\u001b[0;34m\u001b[0m\u001b[0m\n\u001b[1;32m     14\u001b[0m \u001b[0mXtest\u001b[0m \u001b[0;34m/=\u001b[0m \u001b[0mXtest\u001b[0m\u001b[0;34m.\u001b[0m\u001b[0mmax\u001b[0m\u001b[0;34m(\u001b[0m\u001b[0;34m)\u001b[0m\u001b[0;34m\u001b[0m\u001b[0m\n\u001b[0;32m---> 15\u001b[0;31m \u001b[0mXtest\u001b[0m\u001b[0;34m.\u001b[0m\u001b[0mto_csv\u001b[0m\u001b[0;34m(\u001b[0m\u001b[0;34m\"/Users/vmanda/Downloads/testC.csv\"\u001b[0m\u001b[0;34m)\u001b[0m\u001b[0;34m\u001b[0m\u001b[0m\n\u001b[0m\u001b[1;32m     16\u001b[0m \u001b[0;34m\u001b[0m\u001b[0m\n\u001b[1;32m     17\u001b[0m \u001b[0my_test_pred\u001b[0m \u001b[0;34m=\u001b[0m \u001b[0mmodel\u001b[0m\u001b[0;34m.\u001b[0m\u001b[0mpredict\u001b[0m\u001b[0;34m(\u001b[0m\u001b[0mXtest\u001b[0m\u001b[0;34m)\u001b[0m\u001b[0;34m\u001b[0m\u001b[0m\n",
      "\u001b[0;32m/Users/vmandal/anaconda/lib/python2.7/site-packages/pandas/util/decorators.pyc\u001b[0m in \u001b[0;36mwrapper\u001b[0;34m(*args, **kwargs)\u001b[0m\n\u001b[1;32m     86\u001b[0m                 \u001b[0;32melse\u001b[0m\u001b[0;34m:\u001b[0m\u001b[0;34m\u001b[0m\u001b[0m\n\u001b[1;32m     87\u001b[0m                     \u001b[0mkwargs\u001b[0m\u001b[0;34m[\u001b[0m\u001b[0mnew_arg_name\u001b[0m\u001b[0;34m]\u001b[0m \u001b[0;34m=\u001b[0m \u001b[0mnew_arg_value\u001b[0m\u001b[0;34m\u001b[0m\u001b[0m\n\u001b[0;32m---> 88\u001b[0;31m             \u001b[0;32mreturn\u001b[0m \u001b[0mfunc\u001b[0m\u001b[0;34m(\u001b[0m\u001b[0;34m*\u001b[0m\u001b[0margs\u001b[0m\u001b[0;34m,\u001b[0m \u001b[0;34m**\u001b[0m\u001b[0mkwargs\u001b[0m\u001b[0;34m)\u001b[0m\u001b[0;34m\u001b[0m\u001b[0m\n\u001b[0m\u001b[1;32m     89\u001b[0m         \u001b[0;32mreturn\u001b[0m \u001b[0mwrapper\u001b[0m\u001b[0;34m\u001b[0m\u001b[0m\n\u001b[1;32m     90\u001b[0m     \u001b[0;32mreturn\u001b[0m \u001b[0m_deprecate_kwarg\u001b[0m\u001b[0;34m\u001b[0m\u001b[0m\n",
      "\u001b[0;32m/Users/vmandal/anaconda/lib/python2.7/site-packages/pandas/core/frame.pyc\u001b[0m in \u001b[0;36mto_csv\u001b[0;34m(self, path_or_buf, sep, na_rep, float_format, columns, header, index, index_label, mode, encoding, quoting, quotechar, line_terminator, chunksize, tupleize_cols, date_format, doublequote, escapechar, **kwds)\u001b[0m\n\u001b[1;32m   1174\u001b[0m                                      \u001b[0mdoublequote\u001b[0m\u001b[0;34m=\u001b[0m\u001b[0mdoublequote\u001b[0m\u001b[0;34m,\u001b[0m\u001b[0;34m\u001b[0m\u001b[0m\n\u001b[1;32m   1175\u001b[0m                                      escapechar=escapechar)\n\u001b[0;32m-> 1176\u001b[0;31m         \u001b[0mformatter\u001b[0m\u001b[0;34m.\u001b[0m\u001b[0msave\u001b[0m\u001b[0;34m(\u001b[0m\u001b[0;34m)\u001b[0m\u001b[0;34m\u001b[0m\u001b[0m\n\u001b[0m\u001b[1;32m   1177\u001b[0m \u001b[0;34m\u001b[0m\u001b[0m\n\u001b[1;32m   1178\u001b[0m         \u001b[0;32mif\u001b[0m \u001b[0mpath_or_buf\u001b[0m \u001b[0;32mis\u001b[0m \u001b[0mNone\u001b[0m\u001b[0;34m:\u001b[0m\u001b[0;34m\u001b[0m\u001b[0m\n",
      "\u001b[0;32m/Users/vmandal/anaconda/lib/python2.7/site-packages/pandas/core/format.pyc\u001b[0m in \u001b[0;36msave\u001b[0;34m(self)\u001b[0m\n\u001b[1;32m   1377\u001b[0m         \u001b[0;32melse\u001b[0m\u001b[0;34m:\u001b[0m\u001b[0;34m\u001b[0m\u001b[0m\n\u001b[1;32m   1378\u001b[0m             f = com._get_handle(self.path_or_buf, self.mode,\n\u001b[0;32m-> 1379\u001b[0;31m                                 encoding=self.encoding)\n\u001b[0m\u001b[1;32m   1380\u001b[0m             \u001b[0mclose\u001b[0m \u001b[0;34m=\u001b[0m \u001b[0mTrue\u001b[0m\u001b[0;34m\u001b[0m\u001b[0m\n\u001b[1;32m   1381\u001b[0m \u001b[0;34m\u001b[0m\u001b[0m\n",
      "\u001b[0;32m/Users/vmandal/anaconda/lib/python2.7/site-packages/pandas/core/common.pyc\u001b[0m in \u001b[0;36m_get_handle\u001b[0;34m(path, mode, encoding, compression)\u001b[0m\n\u001b[1;32m   2714\u001b[0m                 \u001b[0mf\u001b[0m \u001b[0;34m=\u001b[0m \u001b[0mopen\u001b[0m\u001b[0;34m(\u001b[0m\u001b[0mpath\u001b[0m\u001b[0;34m,\u001b[0m \u001b[0mmode\u001b[0m\u001b[0;34m,\u001b[0m \u001b[0merrors\u001b[0m\u001b[0;34m=\u001b[0m\u001b[0;34m'replace'\u001b[0m\u001b[0;34m)\u001b[0m\u001b[0;34m\u001b[0m\u001b[0m\n\u001b[1;32m   2715\u001b[0m         \u001b[0;32melse\u001b[0m\u001b[0;34m:\u001b[0m\u001b[0;34m\u001b[0m\u001b[0m\n\u001b[0;32m-> 2716\u001b[0;31m             \u001b[0mf\u001b[0m \u001b[0;34m=\u001b[0m \u001b[0mopen\u001b[0m\u001b[0;34m(\u001b[0m\u001b[0mpath\u001b[0m\u001b[0;34m,\u001b[0m \u001b[0mmode\u001b[0m\u001b[0;34m)\u001b[0m\u001b[0;34m\u001b[0m\u001b[0m\n\u001b[0m\u001b[1;32m   2717\u001b[0m \u001b[0;34m\u001b[0m\u001b[0m\n\u001b[1;32m   2718\u001b[0m     \u001b[0;32mreturn\u001b[0m \u001b[0mf\u001b[0m\u001b[0;34m\u001b[0m\u001b[0m\n",
      "\u001b[0;31mIOError\u001b[0m: [Errno 2] No such file or directory: '/Users/vmanda/Downloads/testC.csv'"
     ]
    }
   ],
   "source": [
    "traincols, testcols = list(df.columns), list(dftest.columns)\n",
    "commoncols = []\n",
    "print dftest.shape\n",
    "for t in testcols:\n",
    "    if t in traincols:\n",
    "        commoncols.append(t)\n",
    "\n",
    "compoundidsel = dftest.Compound_ID.tolist\n",
    "Xtest = dftest.loc[:, commoncols]\n",
    "#print Xtest.shape\n",
    "#Xtest = Xtest.drop('TD50', 1)\n",
    "#print Xtest.max()\n",
    "Xtest -= Xtest.mean()\n",
    "Xtest /= Xtest.max()\n",
    "Xtest.to_csv(\"/Users/vmanda/Downloads/testC.csv\")\n",
    "\n",
    "y_test_pred = model.predict(Xtest)"
   ]
  },
  {
   "cell_type": "code",
   "execution_count": null,
   "metadata": {
    "collapsed": true
   },
   "outputs": [],
   "source": []
  }
 ],
 "metadata": {
  "kernelspec": {
   "display_name": "Python 2",
   "language": "python",
   "name": "python2"
  },
  "language_info": {
   "codemirror_mode": {
    "name": "ipython",
    "version": 2
   },
   "file_extension": ".py",
   "mimetype": "text/x-python",
   "name": "python",
   "nbconvert_exporter": "python",
   "pygments_lexer": "ipython2",
   "version": "2.7.10"
  }
 },
 "nbformat": 4,
 "nbformat_minor": 0
}
