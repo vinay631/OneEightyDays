{
 "cells": [
  {
   "cell_type": "code",
   "execution_count": 1,
   "metadata": {
    "collapsed": false
   },
   "outputs": [
    {
     "name": "stdout",
     "output_type": "stream",
     "text": [
      "0 {1: 24514, 2: 22501, 3: 36661, 4: 75243, 5: 88103}\n",
      "1 {1: 22734, 2: 20642, 3: 33634, 4: 70039, 5: 85669}\n",
      "2 {1: 22282, 2: 20231, 3: 32798, 4: 69135, 5: 87414}\n",
      "3 {1: 20965, 2: 18322, 3: 29390, 4: 62863, 5: 80326}\n",
      "4 {1: 21701, 2: 18075, 3: 28055, 4: 59687, 5: 77408}\n",
      "5 {1: 23251, 2: 19461, 3: 28929, 4: 60933, 5: 79878}\n",
      "6 {1: 24364, 2: 21376, 3: 33252, 4: 68699, 5: 80729}\n"
     ]
    }
   ],
   "source": [
    "import json\n",
    "import datetime\n",
    "from collections import defaultdict\n",
    "\n",
    "dayOfWeekReviews = defaultdict(dict)\n",
    "with open('./data/yelp_academic_dataset_review.json', 'rb') as fread:\n",
    "    for line in fread:\n",
    "        jsonData = json.loads(line)\n",
    "        date = datetime.datetime.strptime(jsonData['date'], '%Y-%m-%d')\n",
    "        star = jsonData['stars']\n",
    "        weekDay = date.weekday()\n",
    "        \n",
    "        weekDayStars = dayOfWeekReviews[weekDay]\n",
    "        if star in weekDayStars:\n",
    "            weekDayStars[star] += 1\n",
    "        else:\n",
    "            weekDayStars[star] = 1\n",
    "            \n",
    "        dayOfWeekReviews[weekDay] = weekDayStars\n",
    "\n",
    "for k, v in dayOfWeekReviews.iteritems():\n",
    "    print k, v\n"
   ]
  },
  {
   "cell_type": "code",
   "execution_count": 2,
   "metadata": {
    "collapsed": false
   },
   "outputs": [
    {
     "name": "stdout",
     "output_type": "stream",
     "text": [
      "24514 22501 36661 75243 88103 0\n",
      "22734 20642 33634 70039 85669 1\n",
      "22282 20231 32798 69135 87414 2\n",
      "20965 18322 29390 62863 80326 3\n",
      "21701 18075 28055 59687 77408 4\n",
      "23251 19461 28929 60933 79878 5\n",
      "24364 21376 33252 68699 80729 6\n"
     ]
    }
   ],
   "source": [
    "for i in xrange(7):\n",
    "    d = dayOfWeekReviews[i]\n",
    "    print d[1], d[2], d[3], d[4], d[5], i"
   ]
  },
  {
   "cell_type": "code",
   "execution_count": 3,
   "metadata": {
    "collapsed": false
   },
   "outputs": [],
   "source": [
    "import json\n",
    "import datetime\n",
    "from collections import defaultdict\n",
    "\n",
    "businessTypes = defaultdict(int)\n",
    "businessCountByCity = defaultdict(int)\n",
    "businessTypeCountByCity = defaultdict(lambda : defaultdict(int))\n",
    "\n",
    "with open('./data/yelp_academic_dataset_business.json', 'rb') as fread:\n",
    "    for line in fread:\n",
    "        jsonData = json.loads(line)\n",
    "        city = jsonData['city']\n",
    "        state = jsonData['state']\n",
    "        categories = jsonData['categories']\n",
    "        for cat in categories:\n",
    "            businessTypes[cat] += 1\n",
    "            businessTypeCountByCity[(city, state)][cat] += 1\n",
    "            \n",
    "        businessCountByCity[(city, state)] += 1\n",
    "        "
   ]
  },
  {
   "cell_type": "code",
   "execution_count": 10,
   "metadata": {
    "collapsed": false
   },
   "outputs": [
    {
     "name": "stdout",
     "output_type": "stream",
     "text": [
      "391\n"
     ]
    }
   ],
   "source": [
    "print len(businessCountByCity)"
   ]
  },
  {
   "cell_type": "code",
   "execution_count": 5,
   "metadata": {
    "collapsed": false
   },
   "outputs": [
    {
     "name": "stdout",
     "output_type": "stream",
     "text": [
      "13600\n"
     ]
    }
   ],
   "source": [
    "#for k, v in businessCountByCity.iteritems():\n",
    "#    print k[0], '|', k[1], '|', v\n",
    "import operator\n",
    "\n",
    "print max(businessCountByCity.iteritems(), key=operator.itemgetter(1))[1]"
   ]
  },
  {
   "cell_type": "code",
   "execution_count": 8,
   "metadata": {
    "collapsed": false
   },
   "outputs": [
    {
     "name": "stdout",
     "output_type": "stream",
     "text": [
      "1.92785774278\n"
     ]
    }
   ],
   "source": [
    "value = 1\n",
    "dailyIncrease = .18/100\n",
    "for i in xrange(36):\n",
    "    value += value * dailyIncrease\n",
    "\n",
    "print value"
   ]
  },
  {
   "cell_type": "code",
   "execution_count": 8,
   "metadata": {
    "collapsed": true
   },
   "outputs": [],
   "source": [
    "reviewLengthByStar = defaultdict(list)\n",
    "numOfStarsByUid = defaultdict(lambda : defaultdict(int))\n",
    "with open('./data/yelp_academic_dataset_review.json', 'rb') as fread:\n",
    "    for line in fread:\n",
    "        jsonData = json.loads(line)\n",
    "        star = jsonData['stars']\n",
    "        weekDay = date.weekday()\n",
    "        text = jsonData['text']\n",
    "        userId = jsonData['user_id']\n",
    "        reviewLengthByStar[star].append(len(text))\n",
    "        numOfStarsByUid[userId][star] += 1\n"
   ]
  },
  {
   "cell_type": "code",
   "execution_count": 13,
   "metadata": {
    "collapsed": false
   },
   "outputs": [
    {
     "name": "stdout",
     "output_type": "stream",
     "text": [
      "1 808.677519069 754.153286099 159811\n",
      "2 822.279656919 700.89973176 140608\n",
      "3 753.1022589 637.060557939 222719\n",
      "4 674.873238048 591.743440854 466599\n",
      "5 574.621950315 553.945944464 579527\n"
     ]
    }
   ],
   "source": [
    "import numpy as np\n",
    "for star in reviewLengthByStar:\n",
    "    reviewLengths = reviewLengthByStar[star]\n",
    "    print star, np.mean(reviewLengths), np.std(reviewLengths), len(reviewLengths)"
   ]
  },
  {
   "cell_type": "code",
   "execution_count": null,
   "metadata": {
    "collapsed": false
   },
   "outputs": [],
   "source": [
    "for cat, count in businessTypes.iteritems():\n",
    "    print cat, '|', count"
   ]
  },
  {
   "cell_type": "code",
   "execution_count": 1,
   "metadata": {
    "collapsed": false
   },
   "outputs": [
    {
     "data": {
      "text/html": [
       "<div class=\"toyplot-color-Palette\" style=\"overflow:hidden; height:auto\"><div style=\"float:left;width:20px;height:20px;background-color:rgba(40%,76.1%,64.7%,1)\"></div><div style=\"float:left;width:20px;height:20px;background-color:rgba(98.8%,55.3%,38.4%,1)\"></div><div style=\"float:left;width:20px;height:20px;background-color:rgba(55.3%,62.7%,79.6%,1)\"></div><div style=\"float:left;width:20px;height:20px;background-color:rgba(90.6%,54.1%,76.5%,1)\"></div><div style=\"float:left;width:20px;height:20px;background-color:rgba(65.1%,84.7%,32.9%,1)\"></div><div style=\"float:left;width:20px;height:20px;background-color:rgba(100%,85.1%,18.4%,1)\"></div><div style=\"float:left;width:20px;height:20px;background-color:rgba(89.8%,76.9%,58%,1)\"></div><div style=\"float:left;width:20px;height:20px;background-color:rgba(70.2%,70.2%,70.2%,1)\"></div></div>"
      ],
      "text/plain": [
       "<toyplot.color.Palette at 0x1066d5a10>"
      ]
     },
     "execution_count": 1,
     "metadata": {},
     "output_type": "execute_result"
    }
   ],
   "source": [
    "import toyplot.color\n",
    "toyplot.color.Palette()"
   ]
  },
  {
   "cell_type": "code",
   "execution_count": null,
   "metadata": {
    "collapsed": false
   },
   "outputs": [],
   "source": [
    "import numpy as np\n",
    "\n",
    "np.random.seed(1234)\n",
    "observations = np.random.normal(size=(50, 50))\n",
    "\n",
    "x = np.linspace(0, 1, len(observations))\n",
    "y1 = np.min(observations, axis=1)\n",
    "y2 = np.max(observations, axis=1)\n",
    "\n",
    "canvas = toyplot.Canvas(width=400, height=300)\n",
    "axes = canvas.axes()\n",
    "mark = axes.fill(x, y1, y2)"
   ]
  },
  {
   "cell_type": "code",
   "execution_count": 2,
   "metadata": {
    "collapsed": true
   },
   "outputs": [],
   "source": [
    "from pymongo import MongoClient\n",
    "import json\n",
    "import datetime"
   ]
  },
  {
   "cell_type": "code",
   "execution_count": 12,
   "metadata": {
    "collapsed": false
   },
   "outputs": [],
   "source": [
    "client = MongoClient('localhost', 27017)\n",
    "db = client.yelp_dataset\n",
    "business = db.business"
   ]
  },
  {
   "cell_type": "code",
   "execution_count": 13,
   "metadata": {
    "collapsed": true
   },
   "outputs": [],
   "source": [
    "usBoundingBox = ((-124.848974, 24.396308), (-66.885444, 49.384358))\n",
    "businessCursor = business.find({'categories':'Restaurants', \n",
    "                                'longitude': {'$lte': -66.885444}, \n",
    "                                'longitude': {'$gte': -124.848974}})"
   ]
  },
  {
   "cell_type": "code",
   "execution_count": 14,
   "metadata": {
    "collapsed": false
   },
   "outputs": [],
   "source": [
    "allBusiness = [b for b in businessCursor]"
   ]
  },
  {
   "cell_type": "code",
   "execution_count": 15,
   "metadata": {
    "collapsed": false
   },
   "outputs": [
    {
     "name": "stdout",
     "output_type": "stream",
     "text": [
      "21892\n",
      "{u'city': u'Homestead', u'review_count': 3, u'name': u\"Eat'n Park Hospitality Group\", u'neighborhoods': [u'Homestead'], u'open': True, u'business_id': u'sRqB6flj3GtTZIZJQxf_oA', u'full_address': u'285 Waterfront Dr E\\nHomestead\\nHomestead, PA 15120', u'hours': {}, u'state': u'PA', u'longitude': -79.9123428, u'stars': 2.5, u'latitude': 40.4116918, u'attributes': {u'Noise Level': u'very_loud', u'Parking': {u'garage': False, u'street': False, u'validated': False, u'lot': False, u'valet': False}, u'Alcohol': u'beer_and_wine', u'Attire': u'casual'}, u'_id': ObjectId('55d1dfe9fa8def3669b5fcf5'), u'type': u'business', u'categories': [u'Restaurants']}\n"
     ]
    }
   ],
   "source": [
    "print len(allBusiness)\n",
    "print allBusiness[12]"
   ]
  },
  {
   "cell_type": "code",
   "execution_count": 21,
   "metadata": {
    "collapsed": false
   },
   "outputs": [
    {
     "name": "stdout",
     "output_type": "stream",
     "text": [
      "825520 SEw9aEpjlwLeskowgE88Cg\n"
     ]
    }
   ],
   "source": [
    "reviews = db.reviews\n",
    "tags = db.tags\n",
    "tagCursor = tags.find()\n",
    "tagged_reviews = [t['review_id'] for t in tagCursor]\n",
    "print len(tagged_reviews), tagged_reviews[0]\n",
    "businessIds = [b['business_id'] for b in allBusiness]\n",
    "reviewCur = reviews.find({'business_id':{'$in':businessIds}})\n",
    "usRestaurantReviews = [r for r in reviewCur]"
   ]
  },
  {
   "cell_type": "code",
   "execution_count": 24,
   "metadata": {
    "collapsed": false
   },
   "outputs": [
    {
     "name": "stdout",
     "output_type": "stream",
     "text": [
      "990627\n",
      "{u'votes': {u'funny': 1, u'useful': 1, u'cool': 1}, u'user_id': u'DBz7nWHg6tLK1JzLFOtU3A', u'review_id': u'RdFot8wgSaCtPUatrAkiqA', u'text': u'Great guys, great food. Plus right next to one of my favorite bars..', u'business_id': u'--5jkZ3-nUPZxUvtcbr8Uw', u'stars': 5, u'date': datetime.datetime(2011, 7, 31, 0, 0), u'_id': ObjectId('55d1de3bfa8def3669b0fb65'), u'type': u'review'}\n"
     ]
    }
   ],
   "source": [
    "print len(usRestaurantReviews)\n",
    "print usRestaurantReviews[0]\n",
    "allRestReviews = [r['review_id'] for r in usRestaurantReviews]\n",
    "notTagged = set(allRestReviews) - set(tagged_reviews)"
   ]
  },
  {
   "cell_type": "code",
   "execution_count": 29,
   "metadata": {
    "collapsed": false
   },
   "outputs": [],
   "source": [
    "notTaggedReviews = list(notTagged)\n",
    "import nltk\n",
    "from nltk.corpus import stopwords\n",
    "\n",
    "stopwords = stopwords.words('english')"
   ]
  },
  {
   "cell_type": "code",
   "execution_count": null,
   "metadata": {
    "collapsed": false
   },
   "outputs": [],
   "source": [
    "import multiprocessing\n",
    "\n",
    "def worker(id, db, skip, limit):\n",
    "    reviewColls = db.reviews\n",
    "    tagColls = db.tags\n",
    "    reviewCur = reviewColls.find({'business_id':{'$in':businessIds}}).skip(skip+limit).limit(limit)\n",
    "    bulkInsertData = []\n",
    "    for review in reviewCur:\n",
    "        words = []\n",
    "        reviewText = review['text'].lower()\n",
    "        businessId = review['business_id']\n",
    "        userId = review['user_id']\n",
    "        date = review['date']\n",
    "        reviewId = review['review_id']\n",
    "        stars = review['stars']\n",
    "        sentences = nltk.sent_tokenize(reviewText)\n",
    "        for sentence in sentences:\n",
    "            tokens = nltk.word_tokenize(sentence)\n",
    "            text = [word for word in tokens if word not in stopwords]\n",
    "            tagged_text = nltk.pos_tag(text)\n",
    "\n",
    "            for word, tag in tagged_text:\n",
    "                words.append({\"word\": word, \"pos\": tag})\n",
    "\n",
    "            insertData = {'business_id': businessId,\n",
    "                          'user_id': userId,\n",
    "                          'date': date,\n",
    "                          'review_id': reviewId,\n",
    "                          'stars': stars,\n",
    "                          'words': words}\n",
    "        bulkInsertData.append(insertData)\n",
    "    tagColls.insert_many(bulkInsertData)\n",
    "\n",
    "numWorkers = 6\n",
    "reviewCur = reviews.find({'business_id':{'$in':businessIds}})\n",
    "totalReviews = reviewCur.count()\n",
    "batchSize = totalReviews/numWorkers\n",
    "extra = totalReviews % numWorkers\n",
    "\n",
    "jobs = []\n",
    "for i in xrange(numWorkers):\n",
    "    left = 0\n",
    "    if i == (numWorkers - 1):\n",
    "        left = extra\n",
    "    p = multiprocessing.Process(target=worker, args=((i + 1), db, i * batchSize, batchSize + left))\n",
    "    jobs.append(p)\n",
    "    p.start()\n",
    "\n",
    "for j in jobs:\n",
    "    j.join()"
   ]
  },
  {
   "cell_type": "code",
   "execution_count": 30,
   "metadata": {
    "collapsed": false
   },
   "outputs": [
    {
     "name": "stdout",
     "output_type": "stream",
     "text": [
      "u5_dcj2jVs_Ni9yF2LNMAg\n"
     ]
    },
    {
     "data": {
      "text/plain": [
       "<pymongo.results.InsertManyResult at 0x22651d6e0>"
      ]
     },
     "execution_count": 30,
     "metadata": {},
     "output_type": "execute_result"
    }
   ],
   "source": [
    "reviewColls = db.reviews\n",
    "tagColls = db.tags\n",
    "print notTaggedReviews[0]\n",
    "reviewCur = reviewColls.find({'review_id':{'$in': notTaggedReviews}})\n",
    "bulkInsertData = []\n",
    "for review in reviewCur:\n",
    "        words = []\n",
    "        reviewText = review['text'].lower()\n",
    "        businessId = review['business_id']\n",
    "        userId = review['user_id']\n",
    "        date = review['date']\n",
    "        reviewId = review['review_id']\n",
    "        stars = review['stars']\n",
    "\n",
    "        tokens = nltk.sent_tokenize(reviewText)\n",
    "        text = [word for word in tokens if word not in stopwords]\n",
    "        tagged_text = nltk.pos_tag(text)\n",
    "\n",
    "        for word, tag in tagged_text:\n",
    "            words.append({\"word\": word, \"pos\": tag})\n",
    "            \n",
    "        insertData = {'business_id': businessId,\n",
    "                      'user_id': userId,\n",
    "                      'date': date,\n",
    "                      'review_id': reviewId,\n",
    "                      'stars': stars,\n",
    "                      'words': words}\n",
    "        bulkInsertData.append(insertData)\n",
    "tagColls.insert_many(bulkInsertData)"
   ]
  },
  {
   "cell_type": "code",
   "execution_count": null,
   "metadata": {
    "collapsed": true
   },
   "outputs": [],
   "source": []
  }
 ],
 "metadata": {
  "kernelspec": {
   "display_name": "Python 2",
   "language": "python",
   "name": "python2"
  },
  "language_info": {
   "codemirror_mode": {
    "name": "ipython",
    "version": 2
   },
   "file_extension": ".py",
   "mimetype": "text/x-python",
   "name": "python",
   "nbconvert_exporter": "python",
   "pygments_lexer": "ipython2",
   "version": "2.7.10"
  }
 },
 "nbformat": 4,
 "nbformat_minor": 0
}
