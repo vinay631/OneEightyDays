{
 "cells": [
  {
   "cell_type": "code",
   "execution_count": 1,
   "metadata": {
    "collapsed": false
   },
   "outputs": [],
   "source": [
    "import pymongo\n",
    "from pymongo import MongoClient\n",
    "import json\n",
    "import datetime"
   ]
  },
  {
   "cell_type": "code",
   "execution_count": 3,
   "metadata": {
    "collapsed": false
   },
   "outputs": [],
   "source": [
    "client = MongoClient('localhost', 27017)\n",
    "db = client.yelp_dataset\n",
    "reviews_coll = db.reviews"
   ]
  },
  {
   "cell_type": "code",
   "execution_count": 4,
   "metadata": {
    "collapsed": false
   },
   "outputs": [
    {
     "data": {
      "text/plain": [
       "<pymongo.results.InsertManyResult at 0x1e1350e60>"
      ]
     },
     "execution_count": 4,
     "metadata": {},
     "output_type": "execute_result"
    }
   ],
   "source": [
    "reviews = []\n",
    "with open('./data/yelp_academic_dataset_review.json', 'rb') as fread:\n",
    "    for line in fread:\n",
    "        jsonData = json.loads(line)\n",
    "        date = datetime.datetime.strptime(jsonData['date'], '%Y-%m-%d')\n",
    "        jsonData['date'] = date\n",
    "        reviews.append(jsonData)\n",
    "        \n",
    "reviews_coll.insert_many(reviews)"
   ]
  },
  {
   "cell_type": "code",
   "execution_count": 5,
   "metadata": {
    "collapsed": false
   },
   "outputs": [
    {
     "name": "stdout",
     "output_type": "stream",
     "text": [
      "1569264\n"
     ]
    }
   ],
   "source": [
    "print len(reviews)"
   ]
  },
  {
   "cell_type": "code",
   "execution_count": 6,
   "metadata": {
    "collapsed": false
   },
   "outputs": [
    {
     "data": {
      "text/plain": [
       "<pymongo.results.InsertManyResult at 0x2e306ab90>"
      ]
     },
     "execution_count": 6,
     "metadata": {},
     "output_type": "execute_result"
    }
   ],
   "source": [
    "business_coll = db.business\n",
    "businesses = []\n",
    "with open('./data/yelp_academic_dataset_business.json', 'rb') as fread:\n",
    "    for line in fread:\n",
    "        jsonData = json.loads(line)\n",
    "        businesses.append(jsonData)\n",
    "business_coll.insert_many(businesses)"
   ]
  },
  {
   "cell_type": "code",
   "execution_count": 7,
   "metadata": {
    "collapsed": false
   },
   "outputs": [
    {
     "data": {
      "text/plain": [
       "<pymongo.results.InsertManyResult at 0x2e306afa0>"
      ]
     },
     "execution_count": 7,
     "metadata": {},
     "output_type": "execute_result"
    }
   ],
   "source": [
    "checkins_coll = db.checkins\n",
    "checkins = []\n",
    "with open('./data/yelp_academic_dataset_checkin.json', 'rb') as fread:\n",
    "    for line in fread:\n",
    "        jsonData = json.loads(line)\n",
    "        checkins.append(jsonData)\n",
    "checkins_coll.insert_many(checkins)"
   ]
  },
  {
   "cell_type": "code",
   "execution_count": 8,
   "metadata": {
    "collapsed": false
   },
   "outputs": [
    {
     "data": {
      "text/plain": [
       "<pymongo.results.InsertManyResult at 0x32e334fa0>"
      ]
     },
     "execution_count": 8,
     "metadata": {},
     "output_type": "execute_result"
    }
   ],
   "source": [
    "tip_coll = db.tips\n",
    "tips = []\n",
    "with open('./data/yelp_academic_dataset_tip.json', 'rb') as fread:\n",
    "    for line in fread:\n",
    "        jsonData = json.loads(line)\n",
    "        date = datetime.datetime.strptime(jsonData['date'], '%Y-%m-%d')\n",
    "        jsonData['date'] = date\n",
    "        tips.append(jsonData)\n",
    "tip_coll.insert_many(tips)"
   ]
  },
  {
   "cell_type": "code",
   "execution_count": 9,
   "metadata": {
    "collapsed": false
   },
   "outputs": [
    {
     "data": {
      "text/plain": [
       "<pymongo.results.InsertManyResult at 0x2b4ab0140>"
      ]
     },
     "execution_count": 9,
     "metadata": {},
     "output_type": "execute_result"
    }
   ],
   "source": [
    "users_coll = db.users\n",
    "users = []\n",
    "with open('./data/yelp_academic_dataset_user.json', 'rb') as fread:\n",
    "    for line in fread:\n",
    "        jsonData = json.loads(line)\n",
    "        users.append(jsonData)\n",
    "users_coll.insert_many(users)"
   ]
  },
  {
   "cell_type": "code",
   "execution_count": null,
   "metadata": {
    "collapsed": true
   },
   "outputs": [],
   "source": []
  }
 ],
 "metadata": {
  "kernelspec": {
   "display_name": "Python 2",
   "language": "python",
   "name": "python2"
  },
  "language_info": {
   "codemirror_mode": {
    "name": "ipython",
    "version": 2
   },
   "file_extension": ".py",
   "mimetype": "text/x-python",
   "name": "python",
   "nbconvert_exporter": "python",
   "pygments_lexer": "ipython2",
   "version": "2.7.10"
  }
 },
 "nbformat": 4,
 "nbformat_minor": 0
}
