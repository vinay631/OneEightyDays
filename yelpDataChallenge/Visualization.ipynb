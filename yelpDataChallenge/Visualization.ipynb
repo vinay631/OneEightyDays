{
 "cells": [
  {
   "cell_type": "markdown",
   "metadata": {},
   "source": [
    "##Visualization"
   ]
  },
  {
   "cell_type": "code",
   "execution_count": 2,
   "metadata": {
    "collapsed": false
   },
   "outputs": [],
   "source": [
    "import seaborn as sns\n",
    "import matplotlib\n",
    "import matplotlib.pyplot as plt\n",
    "%matplotlib inline\n",
    "import toyplot\n",
    "sns.set(style='ticks', palette='Set2')\n",
    "sns.despine()\n",
    "plt.switch_backend('agg')"
   ]
  },
  {
   "cell_type": "code",
   "execution_count": 3,
   "metadata": {
    "collapsed": true
   },
   "outputs": [],
   "source": [
    "import pandas as pd\n",
    "import numpy as np"
   ]
  },
  {
   "cell_type": "code",
   "execution_count": 4,
   "metadata": {
    "collapsed": false
   },
   "outputs": [
    {
     "data": {
      "text/html": [
       "<div>\n",
       "<table border=\"1\" class=\"dataframe\">\n",
       "  <thead>\n",
       "    <tr style=\"text-align: right;\">\n",
       "      <th></th>\n",
       "      <th>1</th>\n",
       "      <th>2</th>\n",
       "      <th>3</th>\n",
       "      <th>4</th>\n",
       "      <th>5</th>\n",
       "      <th>Day</th>\n",
       "    </tr>\n",
       "  </thead>\n",
       "  <tbody>\n",
       "    <tr>\n",
       "      <th>0</th>\n",
       "      <td>16604</td>\n",
       "      <td>15310</td>\n",
       "      <td>23891</td>\n",
       "      <td>49433</td>\n",
       "      <td>55722</td>\n",
       "      <td>Sun</td>\n",
       "    </tr>\n",
       "    <tr>\n",
       "      <th>1</th>\n",
       "      <td>17426</td>\n",
       "      <td>16685</td>\n",
       "      <td>27252</td>\n",
       "      <td>55948</td>\n",
       "      <td>62707</td>\n",
       "      <td>Mon</td>\n",
       "    </tr>\n",
       "    <tr>\n",
       "      <th>2</th>\n",
       "      <td>15893</td>\n",
       "      <td>15469</td>\n",
       "      <td>25114</td>\n",
       "      <td>52144</td>\n",
       "      <td>61343</td>\n",
       "      <td>Tue</td>\n",
       "    </tr>\n",
       "    <tr>\n",
       "      <th>3</th>\n",
       "      <td>15870</td>\n",
       "      <td>15053</td>\n",
       "      <td>24334</td>\n",
       "      <td>51165</td>\n",
       "      <td>61809</td>\n",
       "      <td>Wed</td>\n",
       "    </tr>\n",
       "    <tr>\n",
       "      <th>4</th>\n",
       "      <td>14609</td>\n",
       "      <td>13567</td>\n",
       "      <td>21687</td>\n",
       "      <td>46156</td>\n",
       "      <td>56452</td>\n",
       "      <td>Thu</td>\n",
       "    </tr>\n",
       "  </tbody>\n",
       "</table>\n",
       "</div>"
      ],
      "text/plain": [
       "       1      2      3      4      5  Day\n",
       "0  16604  15310  23891  49433  55722  Sun\n",
       "1  17426  16685  27252  55948  62707  Mon\n",
       "2  15893  15469  25114  52144  61343  Tue\n",
       "3  15870  15053  24334  51165  61809  Wed\n",
       "4  14609  13567  21687  46156  56452  Thu"
      ]
     },
     "execution_count": 4,
     "metadata": {},
     "output_type": "execute_result"
    }
   ],
   "source": [
    "ratings_by_day = pd.read_csv('./data/derivedData/ratingsByDayOfWeek.csv')\n",
    "ratings_by_day.head()\n"
   ]
  },
  {
   "cell_type": "code",
   "execution_count": 5,
   "metadata": {
    "collapsed": false
   },
   "outputs": [
    {
     "data": {
      "text/plain": [
       "<matplotlib.axes._subplots.AxesSubplot at 0x10b4a26d0>"
      ]
     },
     "execution_count": 5,
     "metadata": {},
     "output_type": "execute_result"
    },
    {
     "data": {
      "image/png": "[encoded data removed]",
      "text/plain": [
       "<matplotlib.figure.Figure at 0x1066c5110>"
      ]
     },
     "metadata": {},
     "output_type": "display_data"
    }
   ],
   "source": [
    "x = list(ratings_by_day['Day']) * 5\n",
    "y = list(ratings_by_day['1']) + list(ratings_by_day['2']) \\\n",
    "    + list(ratings_by_day['3']) \\\n",
    "    + list(ratings_by_day['4']) + list(ratings_by_day['5'])\n",
    "hue = [1]*7 + [2]*7 + [3]*7 + [4]*7 + [5]*7\n",
    "\n",
    "data = [(x[i], y[i], hue[i]) for i, v in enumerate(x)]\n",
    "new_df = pd.DataFrame(data, columns=['day', 'count', 'star'])\n",
    "sns.plt.switch_backend('agg')\n",
    "sns.barplot(x='day', y='count', hue='star', data=new_df)\n"
   ]
  },
  {
   "cell_type": "code",
   "execution_count": 30,
   "metadata": {
    "collapsed": false
   },
   "outputs": [
    {
     "data": {
      "text/html": [
       "<div>\n",
       "<table border=\"1\" class=\"dataframe\">\n",
       "  <thead>\n",
       "    <tr style=\"text-align: right;\">\n",
       "      <th></th>\n",
       "      <th>star</th>\n",
       "      <th>avgRatingLen</th>\n",
       "      <th>ratingLenStd</th>\n",
       "      <th>ratingCount</th>\n",
       "    </tr>\n",
       "  </thead>\n",
       "  <tbody>\n",
       "    <tr>\n",
       "      <th>0</th>\n",
       "      <td>1</td>\n",
       "      <td>808.677519</td>\n",
       "      <td>754.153286</td>\n",
       "      <td>159811</td>\n",
       "    </tr>\n",
       "    <tr>\n",
       "      <th>1</th>\n",
       "      <td>2</td>\n",
       "      <td>822.279657</td>\n",
       "      <td>700.899732</td>\n",
       "      <td>140608</td>\n",
       "    </tr>\n",
       "    <tr>\n",
       "      <th>2</th>\n",
       "      <td>3</td>\n",
       "      <td>753.102259</td>\n",
       "      <td>637.060558</td>\n",
       "      <td>222719</td>\n",
       "    </tr>\n",
       "    <tr>\n",
       "      <th>3</th>\n",
       "      <td>4</td>\n",
       "      <td>674.873238</td>\n",
       "      <td>591.743441</td>\n",
       "      <td>466599</td>\n",
       "    </tr>\n",
       "    <tr>\n",
       "      <th>4</th>\n",
       "      <td>5</td>\n",
       "      <td>574.621950</td>\n",
       "      <td>553.945944</td>\n",
       "      <td>579527</td>\n",
       "    </tr>\n",
       "  </tbody>\n",
       "</table>\n",
       "</div>"
      ],
      "text/plain": [
       "   star  avgRatingLen  ratingLenStd  ratingCount\n",
       "0     1    808.677519    754.153286       159811\n",
       "1     2    822.279657    700.899732       140608\n",
       "2     3    753.102259    637.060558       222719\n",
       "3     4    674.873238    591.743441       466599\n",
       "4     5    574.621950    553.945944       579527"
      ]
     },
     "execution_count": 30,
     "metadata": {},
     "output_type": "execute_result"
    }
   ],
   "source": [
    "avg_review_length_df = pd.read_csv('./data/derivedData/reviewLengthByStar.csv')\n",
    "avg_review_length_df.head()"
   ]
  },
  {
   "cell_type": "code",
   "execution_count": 28,
   "metadata": {
    "collapsed": false
   },
   "outputs": [
    {
     "data": {
      "text/plain": [
       "<matplotlib.axes._subplots.AxesSubplot at 0x11062b950>"
      ]
     },
     "execution_count": 28,
     "metadata": {},
     "output_type": "execute_result"
    },
    {
     "data": {
      "image/png": "[encoded data removed]",
      "text/plain": [
       "<matplotlib.figure.Figure at 0x10c416e50>"
      ]
     },
     "metadata": {},
     "output_type": "display_data"
    }
   ],
   "source": [
    "x=avg_review_length_df.star\n",
    "y=avg_review_length_df.avgRatingLen\n",
    "sns.barplot(x=x, y=y)"
   ]
  },
  {
   "cell_type": "code",
   "execution_count": null,
   "metadata": {
    "collapsed": true
   },
   "outputs": [],
   "source": []
  }
 ],
 "metadata": {
  "kernelspec": {
   "display_name": "Python 2",
   "language": "python",
   "name": "python2"
  },
  "language_info": {
   "codemirror_mode": {
    "name": "ipython",
    "version": 2
   },
   "file_extension": ".py",
   "mimetype": "text/x-python",
   "name": "python",
   "nbconvert_exporter": "python",
   "pygments_lexer": "ipython2",
   "version": "2.7.10"
  }
 },
 "nbformat": 4,
 "nbformat_minor": 0
}
