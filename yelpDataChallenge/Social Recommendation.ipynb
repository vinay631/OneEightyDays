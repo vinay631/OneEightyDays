{
 "cells": [
  {
   "cell_type": "code",
   "execution_count": 1,
   "metadata": {
    "collapsed": true
   },
   "outputs": [],
   "source": [
    "from py2neo import Node, Relationship, Graph, schema"
   ]
  },
  {
   "cell_type": "code",
   "execution_count": 2,
   "metadata": {
    "collapsed": true
   },
   "outputs": [],
   "source": [
    "graph = Graph()"
   ]
  },
  {
   "cell_type": "markdown",
   "metadata": {},
   "source": [
    "###Select some users"
   ]
  },
  {
   "cell_type": "code",
   "execution_count": 4,
   "metadata": {
    "collapsed": false
   },
   "outputs": [
    {
     "name": "stdout",
     "output_type": "stream",
     "text": [
      "Querying...\n",
      "    | n                                                              \n",
      "----+-----------------------------------------------------------------\n",
      "  1 | (n38869:Seluser {id:\"rpOyqD_893cqmDAtJLbdog\",name:\"Jeremy\"})   \n",
      "  2 | (n38870:Seluser {id:\"4U9kSBLuBDU391x6bxU-YA\",name:\"Michael\"})  \n",
      "  3 | (n38871:Seluser {id:\"SIBCL7HBkrP4llolm4SC2A\",name:\"Katherine\"})\n",
      "  4 | (n38872:Seluser {id:\"UTS9XcT14H2ZscRIf0MYHQ\",name:\"Nader\"})    \n",
      "  5 | (n38873:Seluser {id:\"qL7Astun3i7qwr2IL5iowA\",name:\"Joseph\"})   \n",
      "  6 | (n38874:Seluser {id:\"ZWOj6LmzwGvMDh-A85EOtA\",name:\"Helen\"})    \n",
      "  7 | (n38875:Seluser {id:\"HDQixQ-WZEV0LVPJlIGQeQ\",name:\"Yishan\"})   \n",
      "  8 | (n38876:Seluser {id:\"iToySZiFejGsgzWc2i3_jA\",name:\"N\"})        \n",
      "  9 | (n38877:Seluser {id:\"LdS4fnqUebNW-MYd1-noKA\",name:\"Suzie\"})    \n",
      " 10 | (n38878:Seluser {id:\"za5Q2uYrTmky9w_3h9k_wQ\",name:\"Steven\"})   \n",
      " 11 | (n38879:Seluser {id:\"HI-QmpsYxP5AJtRPanXKQw\",name:\"Amanda\"})   \n",
      " 12 | (n38880:Seluser {id:\"y6tOSRh3Xng3XKjVFoE2qw\",name:\"Joe\"})      \n",
      " 13 | (n38881:Seluser {id:\"AzoZZ1hRToPsnUPXeRXelg\",name:\"King\"})     \n",
      " 14 | (n38882:Seluser {id:\"3ctGjRh7NaXZ-Gr34A5b6A\",name:\"Kathy\"})    \n",
      " 15 | (n38883:Seluser {id:\"1pbDBfeOWnRVrotNPRzAzw\",name:\"Suman\"})    \n",
      " 16 | (n38884:Seluser {id:\"gID4clLTrwhR1yX4hTknag\",name:\"Fawn\"})     \n",
      " 17 | (n38885:Seluser {id:\"xu_KA5FxXfb5-vx0uz_BNg\",name:\"Michelle\"}) \n",
      " 18 | (n38886:Seluser {id:\"E_DJ1nTDPt9Qk2abWFTefQ\",name:\"Heather\"})  \n",
      " 19 | (n38887:Seluser {id:\"6CfB1MEvy7AQkP0Mpbsrjw\",name:\"Olivia\"})   \n",
      " 20 | (n38888:Seluser {id:\"KC6-fxngSzHFI37Z5R-1Jw\",name:\"C\"})        \n",
      " 21 | (n38889:Seluser {id:\"J817Cq7qJ9bYvJVFHlUgCw\",name:\"Anthony\"})  \n",
      " 22 | (n38890:Seluser {id:\"qoPY_OSIVLiA90-V7sdwNw\",name:\"Angela\"})   \n",
      " 23 | (n38891:Seluser {id:\"VoCGQ6YyaXzQ_AZ9eI1cog\",name:\"R\"})        \n",
      " 24 | (n38892:Seluser {id:\"ryu1gXViHZJ38-o9fr9vVw\",name:\"Maya\"})     \n",
      " 25 | (n38893:Seluser {id:\"-OxLpeAl4T-rMXaJAn2RDQ\",name:\"Tiffany\"})  \n",
      "\n"
     ]
    }
   ],
   "source": [
    "print 'Querying...'\n",
    "query = 'MATCH (n:Seluser) RETURN n LIMIT 25'\n",
    "result = graph.cypher.execute(query)\n",
    "print result"
   ]
  },
  {
   "cell_type": "markdown",
   "metadata": {
    "collapsed": true
   },
   "source": [
    "###Select some businesses"
   ]
  },
  {
   "cell_type": "code",
   "execution_count": 5,
   "metadata": {
    "collapsed": false
   },
   "outputs": [
    {
     "name": "stdout",
     "output_type": "stream",
     "text": [
      "    | n                                                                                                              \n",
      "----+-----------------------------------------------------------------------------------------------------------------\n",
      "  1 | (n29344:Selbusinesses {city:\"Charlotte\",id:\"9fxTX1uyyYF4ugx68AG2sg\",name:\"Presto Bar & Grill\"})                \n",
      "  2 | (n29345:Selbusinesses {city:\"Charlotte\",id:\"utyqO_IVBAN8ULZmi52XaA\",name:\"China King\"})                        \n",
      "  3 | (n29346:Selbusinesses {city:\"Charlotte\",id:\"9XKIFRBT-UTglX3wBGPAAA\",name:\"Bojangles\"})                         \n",
      "  4 | (n29347:Selbusinesses {city:\"Charlotte\",id:\"df7cda6f5lMADGnoVHd8pg\",name:\"Ratcliffe On The Green\"})            \n",
      "  5 | (n29348:Selbusinesses {city:\"Charlotte\",id:\"Heon0PS3J4RGmMa-VflCuA\",name:\"Salsarita's Fresh Cantina\"})         \n",
      "  6 | (n29349:Selbusinesses {city:\"Charlotte\",id:\"-Am2JVkb7nwvBAUwSugG0A\",name:\"Monticello Restaurant\"})             \n",
      "  7 | (n29350:Selbusinesses {city:\"Charlotte\",id:\"mpDxBBGywUE6GRRKja3sBA\",name:\"Mert's Heart & Soul\"})               \n",
      "  8 | (n29351:Selbusinesses {city:\"Charlotte\",id:\"onv6-u283dEMVkFeAixYtw\",name:\"Brevard Court Sundries\"})            \n",
      "  9 | (n29352:Selbusinesses {city:\"Charlotte\",id:\"6ICGve6UyGPuLaGrKQBVuw\",name:\"Jersey Mike's Subs\"})                \n",
      " 10 | (n29353:Selbusinesses {city:\"Charlotte\",id:\"NTfUFk8GyOLL1uPbEO-pVg\",name:\"Mimosa Grill\"})                      \n",
      " 11 | (n29354:Selbusinesses {city:\"Charlotte\",id:\"_CFgU43jk6pX1cm_Nc1vHw\",name:\"Arthurs's At Wachovia\"})             \n",
      " 12 | (n29355:Selbusinesses {city:\"Charlotte\",id:\"e8kqqWU9247Nn5VAF5sDkQ\",name:\"Fuel Pizza Cafe\"})                   \n",
      " 13 | (n29356:Selbusinesses {city:\"Charlotte\",id:\"SjsguOTm7kQ_B3QcfHH-3A\",name:\"Showmars Government Center\"})        \n",
      " 14 | (n29357:Selbusinesses {city:\"Charlotte\",id:\"z24h6ZYnZiWjlDTuLXG9jw\",name:\"Luce Restaurant & Bar\"})             \n",
      " 15 | (n29358:Selbusinesses {city:\"Charlotte\",id:\"WYnveDiSEXLCeNkLZrXibQ\",name:\"Phil's Deli New York Deli & Tavern\"})\n",
      " 16 | (n29359:Selbusinesses {city:\"Charlotte\",id:\"EwuvZCcVHkICgTbqCEjikA\",name:\"Hartigan's Irish Pub\"})              \n",
      " 17 | (n29360:Selbusinesses {city:\"Charlotte\",id:\"6SxAOEXHzNjWQMQ9Nnos3A\",name:\"Phil's Tavern\"})                     \n",
      " 18 | (n29361:Selbusinesses {city:\"Charlotte\",id:\"kAid56AY_laxGYslMdsYJw\",name:\"Brixx Wood Fired Pizza\"})            \n",
      " 19 | (n29362:Selbusinesses {city:\"Charlotte\",id:\"CChwRoYVXA3QZulS8a6xOQ\",name:\"The Capital Grille\"})                \n",
      " 20 | (n29363:Selbusinesses {city:\"Charlotte\",id:\"T998Ez8h8CeZg1eNVbG77w\",name:\"Graduate Food & Pub\"})               \n",
      " 21 | (n29364:Selbusinesses {city:\"Charlotte\",id:\"t5l-H2KdY4MQgLDMENz9WQ\",name:\"Stool Pigeons Coop & Grill\"})        \n",
      " 22 | (n29365:Selbusinesses {city:\"Charlotte\",id:\"C9CF7p53Y0L5ErKRhhFhng\",name:\"Savannah Red\"})                      \n",
      " 23 | (n29366:Selbusinesses {city:\"Charlotte\",id:\"OOPBFViU0cl_GryJOEEUcg\",name:\"Frankie's Italian Grille\"})          \n",
      " 24 | (n29367:Selbusinesses {city:\"Charlotte\",id:\"-R7uChoaVzwNvPNMT1gOuw\",name:\"Chicks Restaurant\"})                 \n",
      " 25 | (n29368:Selbusinesses {city:\"Charlotte\",id:\"R6bBcQaHFHHpndTzMEHjXA\",name:\"Ruby Tuesday Restaurant\"})           \n",
      "\n"
     ]
    }
   ],
   "source": [
    "query = 'MATCH (n:Selbusinesses) RETURN n LIMIT 25'\n",
    "result = graph.cypher.execute(query)\n",
    "print result"
   ]
  },
  {
   "cell_type": "markdown",
   "metadata": {},
   "source": [
    "###Given a user, finds the users who have rated same latent topics highly"
   ]
  },
  {
   "cell_type": "code",
   "execution_count": 6,
   "metadata": {
    "collapsed": false
   },
   "outputs": [
    {
     "name": "stdout",
     "output_type": "stream",
     "text": [
      "    | user2                                          | topiccounts\n",
      "----+------------------------------------------------+-------------\n",
      "  1 | (n490352:Selser {id:\"kGgAARL2UmvCcTRfiscjug\"}) |          20\n",
      "  2 | (n487357:Selser {id:\"4ozupHULqGyO42s3zNUzOQ\"}) |          19\n",
      "  3 | (n487707:Selser {id:\"DrWLhrK8WMZf7Jb-Oqc7ww\"}) |          16\n",
      "  4 | (n487010:Selser {id:\"90a6z--_CUrl84aCzZyPsg\"}) |          15\n",
      "  5 | (n484478:Selser {id:\"4G68oLRY3aHE5XUt_MUUcA\"}) |          12\n",
      "  6 | (n487252:Selser {id:\"iwUN95LIaEr75TZE_JC6bg\"}) |          11\n",
      "  7 | (n487238:Selser {id:\"pEVf8GRshP9HUkSpizc9LA\"}) |          10\n",
      "  8 | (n487802:Selser {id:\"Ovpa3S8xD96dLE5eDxcxJg\"}) |          10\n",
      "  9 | (n501197:Selser {id:\"WmAyExqSWoiYZ5XEqpk_Uw\"}) |           9\n",
      " 10 | (n487362:Selser {id:\"lmiDCrmas8TxRsbIGZX9Pg\"}) |           9\n",
      "\n"
     ]
    }
   ],
   "source": [
    "query = 'match (u1 {id:\"UZyNf0h26jNVvpHT-GF2oA\"}) - [rel:topiclike]-> r <- [re:topiclike] - (u2) with count(r) as topiccounts, u2 as user2 where topiccounts > 2 return user2, topiccounts order by topiccounts desc limit 10'\n",
    "result = graph.cypher.execute(query)\n",
    "print result"
   ]
  },
  {
   "cell_type": "markdown",
   "metadata": {},
   "source": [
    "###Given a user, finds the users who have rated same restaurants highly"
   ]
  },
  {
   "cell_type": "code",
   "execution_count": 7,
   "metadata": {
    "collapsed": false
   },
   "outputs": [
    {
     "name": "stdout",
     "output_type": "stream",
     "text": [
      "   | u1                                             | u2                                            \n",
      "---+------------------------------------------------+------------------------------------------------\n",
      " 1 | (n610741:Selser {id:\"UZyNf0h26jNVvpHT-GF2oA\"}) | (n498571:Selser {id:\"O3F9oWq1WAVdw7v6RMTBAA\"})\n",
      " 2 | (n610741:Selser {id:\"UZyNf0h26jNVvpHT-GF2oA\"}) | (n12912:Selser {id:\"p7jvpTSjzSnVyMh-qvZ18A\"}) \n",
      " 3 | (n610741:Selser {id:\"UZyNf0h26jNVvpHT-GF2oA\"}) | (n10317:Selser {id:\"nsam-QTTO9kkHTrPbttd1g\"}) \n",
      "\n"
     ]
    }
   ],
   "source": [
    "query = 'match (u1 {id:\"UZyNf0h26jNVvpHT-GF2oA\"}) - [rel:likessubset]-> r <- [re:likessubset] - (u2) return u1, u2 limit 10'\n",
    "result = graph.cypher.execute(query)\n",
    "print result"
   ]
  },
  {
   "cell_type": "code",
   "execution_count": null,
   "metadata": {
    "collapsed": true
   },
   "outputs": [],
   "source": []
  }
 ],
 "metadata": {
  "kernelspec": {
   "display_name": "Python 2",
   "language": "python",
   "name": "python2"
  },
  "language_info": {
   "codemirror_mode": {
    "name": "ipython",
    "version": 2
   },
   "file_extension": ".py",
   "mimetype": "text/x-python",
   "name": "python",
   "nbconvert_exporter": "python",
   "pygments_lexer": "ipython2",
   "version": "2.7.10"
  }
 },
 "nbformat": 4,
 "nbformat_minor": 0
}
