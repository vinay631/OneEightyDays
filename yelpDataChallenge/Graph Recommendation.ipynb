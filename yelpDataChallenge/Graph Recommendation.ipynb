{
 "cells": [
  {
   "cell_type": "markdown",
   "metadata": {},
   "source": [
    "##Social Recommendation using Graph"
   ]
  },
  {
   "cell_type": "code",
   "execution_count": 20,
   "metadata": {
    "collapsed": false
   },
   "outputs": [],
   "source": [
    "from py2neo import Node, Relationship, Graph, schema\n",
    "from pymongo import MongoClient"
   ]
  },
  {
   "cell_type": "code",
   "execution_count": 3,
   "metadata": {
    "collapsed": false
   },
   "outputs": [],
   "source": [
    "client = MongoClient('localhost', 27017)\n",
    "db = client.yelp_dataset\n",
    "business = db.business\n",
    "\n",
    "usBoundingBox = ((-124.848974, 24.396308), (-66.885444, 49.384358))\n",
    "businessCursor = business.find({'categories':'Restaurants', \n",
    "                                'longitude': {'$lte': -66.885444}, \n",
    "                                'longitude': {'$gte': -124.848974}})\n",
    "\n",
    "allBusiness = [b for b in businessCursor]\n",
    "\n",
    "reviews = db.reviews\n",
    "businessIds = [b['business_id'] for b in allBusiness]\n",
    "reviewCur = reviews.find({'business_id':{'$in':businessIds}})\n",
    "usRestaurantReviews = [r for r in reviewCur]"
   ]
  },
  {
   "cell_type": "code",
   "execution_count": 28,
   "metadata": {
    "collapsed": false
   },
   "outputs": [
    {
     "data": {
      "text/plain": []
     },
     "execution_count": 28,
     "metadata": {},
     "output_type": "execute_result"
    }
   ],
   "source": [
    "graph = Graph()\n",
    "graph.cypher.execute(\"CREATE INDEX ON :Users(name)\")\n",
    "graph.cypher.execute(\"CREATE INDEX ON :Businesses(name)\")"
   ]
  },
  {
   "cell_type": "code",
   "execution_count": 29,
   "metadata": {
    "collapsed": false
   },
   "outputs": [],
   "source": [
    "graph = Graph()\n",
    "for bId in businessIds:\n",
    "    bsness = Node(\"Businesses\", name=bId)\n",
    "    graph.create(bsness)\n",
    "    \n"
   ]
  },
  {
   "cell_type": "code",
   "execution_count": 30,
   "metadata": {
    "collapsed": false
   },
   "outputs": [],
   "source": [
    "uniqueUsers = list(set([rev['user_id'] for rev in usRestaurantReviews]))\n",
    "for user in uniqueUsers:\n",
    "    userNode = Node(\"Users\", name=user)\n",
    "    graph.create(userNode)\n"
   ]
  },
  {
   "cell_type": "code",
   "execution_count": 41,
   "metadata": {
    "collapsed": false
   },
   "outputs": [
    {
     "name": "stdout",
     "output_type": "stream",
     "text": [
      "652216\n"
     ]
    }
   ],
   "source": [
    "count = 0\n",
    "for rev in usRestaurantReviews:\n",
    "    star = rev['stars']\n",
    "    if star >= 4:\n",
    "        user = graph.merge_one('Users', 'name', rev['user_id'])\n",
    "        business = graph.merge_one('Businesses', 'name', rev['business_id'])\n",
    "        likes = Relationship(user, 'likes', business)\n",
    "        graph.create(likes)\n",
    "        count += 1\n",
    "        \n",
    "print count\n"
   ]
  },
  {
   "cell_type": "code",
   "execution_count": null,
   "metadata": {
    "collapsed": true
   },
   "outputs": [],
   "source": []
  },
  {
   "cell_type": "code",
   "execution_count": null,
   "metadata": {
    "collapsed": true
   },
   "outputs": [],
   "source": []
  }
 ],
 "metadata": {
  "kernelspec": {
   "display_name": "Python 2",
   "language": "python",
   "name": "python2"
  }
 },
 "nbformat": 4,
 "nbformat_minor": 0
}
